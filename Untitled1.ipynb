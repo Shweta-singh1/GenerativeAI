{
  "nbformat": 4,
  "nbformat_minor": 0,
  "metadata": {
    "colab": {
      "provenance": [],
      "authorship_tag": "ABX9TyN+t6aBnYDlW6M4p/yuQGYE",
      "include_colab_link": true
    },
    "kernelspec": {
      "name": "python3",
      "display_name": "Python 3"
    },
    "language_info": {
      "name": "python"
    }
  },
  "cells": [
    {
      "cell_type": "markdown",
      "metadata": {
        "id": "view-in-github",
        "colab_type": "text"
      },
      "source": [
        "<a href=\"https://colab.research.google.com/github/Shweta-singh1/GenerativeAI/blob/ml/Untitled1.ipynb\" target=\"_parent\"><img src=\"https://colab.research.google.com/assets/colab-badge.svg\" alt=\"Open In Colab\"/></a>"
      ]
    },
    {
      "cell_type": "code",
      "execution_count": 1,
      "metadata": {
        "id": "s0VgDtS8xre_"
      },
      "outputs": [],
      "source": [
        "import pandas as pd\n",
        "import numpy as np\n",
        "import matplotlib.pyplot as plt\n",
        "import seaborn as sns\n",
        "%matplotlib inline"
      ]
    },
    {
      "cell_type": "code",
      "source": [
        "from google.colab import drive\n",
        "drive.mount('/content/drive')"
      ],
      "metadata": {
        "colab": {
          "base_uri": "https://localhost:8080/"
        },
        "id": "AaGc2SsDqWyt",
        "outputId": "6fbe78cb-5631-468f-f3f4-24f9738c683f"
      },
      "execution_count": 3,
      "outputs": [
        {
          "output_type": "stream",
          "name": "stdout",
          "text": [
            "Mounted at /content/drive\n"
          ]
        }
      ]
    },
    {
      "cell_type": "code",
      "source": [
        "df=pd.read_csv(r\"/content/drive/MyDrive/generativeai/train.csv\")"
      ],
      "metadata": {
        "id": "4b2JsHO3xsYk"
      },
      "execution_count": 4,
      "outputs": []
    },
    {
      "cell_type": "code",
      "source": [
        "pd.DataFrame(df)"
      ],
      "metadata": {
        "colab": {
          "base_uri": "https://localhost:8080/",
          "height": 424
        },
        "id": "nIQlYtII0i3T",
        "outputId": "9e22f6a2-666f-4608-9f80-7c855887f0ec"
      },
      "execution_count": 5,
      "outputs": [
        {
          "output_type": "execute_result",
          "data": {
            "text/plain": [
              "      labels       f_0       f_1       f_2       f_3       f_4       f_5  \\\n",
              "0          0 -2.033875  0.978446 -0.142131 -0.177117 -1.470684  1.669562   \n",
              "1          1 -0.348835  0.294815 -0.557577 -2.020773 -1.234715  1.633930   \n",
              "2          1  0.113248 -0.607726 -0.947791  0.830851  0.998291  0.498321   \n",
              "3          0  1.223321 -0.479048 -1.925789  1.680377  0.021840 -1.453307   \n",
              "4          0  0.160109  0.422684 -0.308029  0.227744  0.432854  0.608348   \n",
              "...      ...       ...       ...       ...       ...       ...       ...   \n",
              "5245       0  1.157565 -0.142219  1.043992  1.144946  1.195423  0.248978   \n",
              "5246       0  1.424709  0.235910  1.356778  1.368099 -0.318862  1.039765   \n",
              "5247       1 -0.375687  1.524455  0.012514 -0.007917  0.073809 -0.906909   \n",
              "5248       1 -0.478238  1.666142  0.049609 -0.428752 -0.362771  1.798104   \n",
              "5249       1 -0.750874  0.267008 -0.155041 -0.179867 -0.155041 -0.303999   \n",
              "\n",
              "           f_6       f_7       f_8  ...    f_1190    f_1191    f_1192  \\\n",
              "0    -0.196530 -0.125239 -0.452284  ... -1.111266  0.716084  0.060039   \n",
              "1    -1.680658 -0.358146  0.166122  ...  0.735240  0.829781  1.521941   \n",
              "2    -1.493958  0.789572 -1.311018  ...  0.104698  0.616189 -1.035953   \n",
              "3     0.605559 -0.019024  1.065448  ...  0.360237 -1.957863 -0.123384   \n",
              "4     0.193832  1.035091 -0.538868  ...  0.416629  1.441766  0.212572   \n",
              "...        ...       ...       ...  ...       ...       ...       ...   \n",
              "5245 -1.505100 -0.874137 -1.782724  ...  1.195423 -0.255793 -0.154838   \n",
              "5246 -0.986854 -0.330184 -1.383120  ...  1.424709 -1.066107  0.881258   \n",
              "5247 -1.254247  1.606182  0.298557  ... -0.028349 -0.968204 -1.233815   \n",
              "5248 -0.214314  0.775400 -0.379267  ... -0.428752 -1.121552 -0.379267   \n",
              "5249 -0.279173  1.731765  0.564925  ... -0.303999 -0.850180  0.937321   \n",
              "\n",
              "        f_1193    f_1194    f_1195    f_1196    f_1197    f_1198    f_1199  \n",
              "0     0.301279 -1.174846 -1.076498 -0.069452 -0.604012 -2.179176  0.558003  \n",
              "1     1.347946  0.754505  1.330642 -0.754453  0.582956  0.252671  1.495870  \n",
              "2     2.111387 -0.984415  1.148076 -1.433554  0.243372  0.170083  1.274795  \n",
              "3     1.505329  0.660290 -1.769443 -0.547756 -0.568122  0.244645  0.982116  \n",
              "4    -0.994721  1.143999 -2.166923 -1.199248 -1.028636  0.752791  0.317169  \n",
              "...        ...       ...       ...       ...       ...       ...       ...  \n",
              "5245  0.413029 -0.482939 -1.277953 -0.445082  1.195423 -0.924614 -0.432462  \n",
              "5246 -0.488691 -1.281223 -1.213291  0.122692  1.175627 -1.145360  0.451026  \n",
              "5247  1.626613 -0.191802  1.115823  0.380284 -0.293960  0.135104  1.381434  \n",
              "5248 -0.593705  0.049609  1.765114  0.313533 -0.329781 -1.220524  0.033114  \n",
              "5249 -1.594972  1.036626  1.582807  1.036626 -0.254346  0.664230  1.831071  \n",
              "\n",
              "[5250 rows x 1201 columns]"
            ],
            "text/html": [
              "\n",
              "  <div id=\"df-30573737-5df0-4f4a-8c86-33c1eb585561\">\n",
              "    <div class=\"colab-df-container\">\n",
              "      <div>\n",
              "<style scoped>\n",
              "    .dataframe tbody tr th:only-of-type {\n",
              "        vertical-align: middle;\n",
              "    }\n",
              "\n",
              "    .dataframe tbody tr th {\n",
              "        vertical-align: top;\n",
              "    }\n",
              "\n",
              "    .dataframe thead th {\n",
              "        text-align: right;\n",
              "    }\n",
              "</style>\n",
              "<table border=\"1\" class=\"dataframe\">\n",
              "  <thead>\n",
              "    <tr style=\"text-align: right;\">\n",
              "      <th></th>\n",
              "      <th>labels</th>\n",
              "      <th>f_0</th>\n",
              "      <th>f_1</th>\n",
              "      <th>f_2</th>\n",
              "      <th>f_3</th>\n",
              "      <th>f_4</th>\n",
              "      <th>f_5</th>\n",
              "      <th>f_6</th>\n",
              "      <th>f_7</th>\n",
              "      <th>f_8</th>\n",
              "      <th>...</th>\n",
              "      <th>f_1190</th>\n",
              "      <th>f_1191</th>\n",
              "      <th>f_1192</th>\n",
              "      <th>f_1193</th>\n",
              "      <th>f_1194</th>\n",
              "      <th>f_1195</th>\n",
              "      <th>f_1196</th>\n",
              "      <th>f_1197</th>\n",
              "      <th>f_1198</th>\n",
              "      <th>f_1199</th>\n",
              "    </tr>\n",
              "  </thead>\n",
              "  <tbody>\n",
              "    <tr>\n",
              "      <th>0</th>\n",
              "      <td>0</td>\n",
              "      <td>-2.033875</td>\n",
              "      <td>0.978446</td>\n",
              "      <td>-0.142131</td>\n",
              "      <td>-0.177117</td>\n",
              "      <td>-1.470684</td>\n",
              "      <td>1.669562</td>\n",
              "      <td>-0.196530</td>\n",
              "      <td>-0.125239</td>\n",
              "      <td>-0.452284</td>\n",
              "      <td>...</td>\n",
              "      <td>-1.111266</td>\n",
              "      <td>0.716084</td>\n",
              "      <td>0.060039</td>\n",
              "      <td>0.301279</td>\n",
              "      <td>-1.174846</td>\n",
              "      <td>-1.076498</td>\n",
              "      <td>-0.069452</td>\n",
              "      <td>-0.604012</td>\n",
              "      <td>-2.179176</td>\n",
              "      <td>0.558003</td>\n",
              "    </tr>\n",
              "    <tr>\n",
              "      <th>1</th>\n",
              "      <td>1</td>\n",
              "      <td>-0.348835</td>\n",
              "      <td>0.294815</td>\n",
              "      <td>-0.557577</td>\n",
              "      <td>-2.020773</td>\n",
              "      <td>-1.234715</td>\n",
              "      <td>1.633930</td>\n",
              "      <td>-1.680658</td>\n",
              "      <td>-0.358146</td>\n",
              "      <td>0.166122</td>\n",
              "      <td>...</td>\n",
              "      <td>0.735240</td>\n",
              "      <td>0.829781</td>\n",
              "      <td>1.521941</td>\n",
              "      <td>1.347946</td>\n",
              "      <td>0.754505</td>\n",
              "      <td>1.330642</td>\n",
              "      <td>-0.754453</td>\n",
              "      <td>0.582956</td>\n",
              "      <td>0.252671</td>\n",
              "      <td>1.495870</td>\n",
              "    </tr>\n",
              "    <tr>\n",
              "      <th>2</th>\n",
              "      <td>1</td>\n",
              "      <td>0.113248</td>\n",
              "      <td>-0.607726</td>\n",
              "      <td>-0.947791</td>\n",
              "      <td>0.830851</td>\n",
              "      <td>0.998291</td>\n",
              "      <td>0.498321</td>\n",
              "      <td>-1.493958</td>\n",
              "      <td>0.789572</td>\n",
              "      <td>-1.311018</td>\n",
              "      <td>...</td>\n",
              "      <td>0.104698</td>\n",
              "      <td>0.616189</td>\n",
              "      <td>-1.035953</td>\n",
              "      <td>2.111387</td>\n",
              "      <td>-0.984415</td>\n",
              "      <td>1.148076</td>\n",
              "      <td>-1.433554</td>\n",
              "      <td>0.243372</td>\n",
              "      <td>0.170083</td>\n",
              "      <td>1.274795</td>\n",
              "    </tr>\n",
              "    <tr>\n",
              "      <th>3</th>\n",
              "      <td>0</td>\n",
              "      <td>1.223321</td>\n",
              "      <td>-0.479048</td>\n",
              "      <td>-1.925789</td>\n",
              "      <td>1.680377</td>\n",
              "      <td>0.021840</td>\n",
              "      <td>-1.453307</td>\n",
              "      <td>0.605559</td>\n",
              "      <td>-0.019024</td>\n",
              "      <td>1.065448</td>\n",
              "      <td>...</td>\n",
              "      <td>0.360237</td>\n",
              "      <td>-1.957863</td>\n",
              "      <td>-0.123384</td>\n",
              "      <td>1.505329</td>\n",
              "      <td>0.660290</td>\n",
              "      <td>-1.769443</td>\n",
              "      <td>-0.547756</td>\n",
              "      <td>-0.568122</td>\n",
              "      <td>0.244645</td>\n",
              "      <td>0.982116</td>\n",
              "    </tr>\n",
              "    <tr>\n",
              "      <th>4</th>\n",
              "      <td>0</td>\n",
              "      <td>0.160109</td>\n",
              "      <td>0.422684</td>\n",
              "      <td>-0.308029</td>\n",
              "      <td>0.227744</td>\n",
              "      <td>0.432854</td>\n",
              "      <td>0.608348</td>\n",
              "      <td>0.193832</td>\n",
              "      <td>1.035091</td>\n",
              "      <td>-0.538868</td>\n",
              "      <td>...</td>\n",
              "      <td>0.416629</td>\n",
              "      <td>1.441766</td>\n",
              "      <td>0.212572</td>\n",
              "      <td>-0.994721</td>\n",
              "      <td>1.143999</td>\n",
              "      <td>-2.166923</td>\n",
              "      <td>-1.199248</td>\n",
              "      <td>-1.028636</td>\n",
              "      <td>0.752791</td>\n",
              "      <td>0.317169</td>\n",
              "    </tr>\n",
              "    <tr>\n",
              "      <th>...</th>\n",
              "      <td>...</td>\n",
              "      <td>...</td>\n",
              "      <td>...</td>\n",
              "      <td>...</td>\n",
              "      <td>...</td>\n",
              "      <td>...</td>\n",
              "      <td>...</td>\n",
              "      <td>...</td>\n",
              "      <td>...</td>\n",
              "      <td>...</td>\n",
              "      <td>...</td>\n",
              "      <td>...</td>\n",
              "      <td>...</td>\n",
              "      <td>...</td>\n",
              "      <td>...</td>\n",
              "      <td>...</td>\n",
              "      <td>...</td>\n",
              "      <td>...</td>\n",
              "      <td>...</td>\n",
              "      <td>...</td>\n",
              "      <td>...</td>\n",
              "    </tr>\n",
              "    <tr>\n",
              "      <th>5245</th>\n",
              "      <td>0</td>\n",
              "      <td>1.157565</td>\n",
              "      <td>-0.142219</td>\n",
              "      <td>1.043992</td>\n",
              "      <td>1.144946</td>\n",
              "      <td>1.195423</td>\n",
              "      <td>0.248978</td>\n",
              "      <td>-1.505100</td>\n",
              "      <td>-0.874137</td>\n",
              "      <td>-1.782724</td>\n",
              "      <td>...</td>\n",
              "      <td>1.195423</td>\n",
              "      <td>-0.255793</td>\n",
              "      <td>-0.154838</td>\n",
              "      <td>0.413029</td>\n",
              "      <td>-0.482939</td>\n",
              "      <td>-1.277953</td>\n",
              "      <td>-0.445082</td>\n",
              "      <td>1.195423</td>\n",
              "      <td>-0.924614</td>\n",
              "      <td>-0.432462</td>\n",
              "    </tr>\n",
              "    <tr>\n",
              "      <th>5246</th>\n",
              "      <td>0</td>\n",
              "      <td>1.424709</td>\n",
              "      <td>0.235910</td>\n",
              "      <td>1.356778</td>\n",
              "      <td>1.368099</td>\n",
              "      <td>-0.318862</td>\n",
              "      <td>1.039765</td>\n",
              "      <td>-0.986854</td>\n",
              "      <td>-0.330184</td>\n",
              "      <td>-1.383120</td>\n",
              "      <td>...</td>\n",
              "      <td>1.424709</td>\n",
              "      <td>-1.066107</td>\n",
              "      <td>0.881258</td>\n",
              "      <td>-0.488691</td>\n",
              "      <td>-1.281223</td>\n",
              "      <td>-1.213291</td>\n",
              "      <td>0.122692</td>\n",
              "      <td>1.175627</td>\n",
              "      <td>-1.145360</td>\n",
              "      <td>0.451026</td>\n",
              "    </tr>\n",
              "    <tr>\n",
              "      <th>5247</th>\n",
              "      <td>1</td>\n",
              "      <td>-0.375687</td>\n",
              "      <td>1.524455</td>\n",
              "      <td>0.012514</td>\n",
              "      <td>-0.007917</td>\n",
              "      <td>0.073809</td>\n",
              "      <td>-0.906909</td>\n",
              "      <td>-1.254247</td>\n",
              "      <td>1.606182</td>\n",
              "      <td>0.298557</td>\n",
              "      <td>...</td>\n",
              "      <td>-0.028349</td>\n",
              "      <td>-0.968204</td>\n",
              "      <td>-1.233815</td>\n",
              "      <td>1.626613</td>\n",
              "      <td>-0.191802</td>\n",
              "      <td>1.115823</td>\n",
              "      <td>0.380284</td>\n",
              "      <td>-0.293960</td>\n",
              "      <td>0.135104</td>\n",
              "      <td>1.381434</td>\n",
              "    </tr>\n",
              "    <tr>\n",
              "      <th>5248</th>\n",
              "      <td>1</td>\n",
              "      <td>-0.478238</td>\n",
              "      <td>1.666142</td>\n",
              "      <td>0.049609</td>\n",
              "      <td>-0.428752</td>\n",
              "      <td>-0.362771</td>\n",
              "      <td>1.798104</td>\n",
              "      <td>-0.214314</td>\n",
              "      <td>0.775400</td>\n",
              "      <td>-0.379267</td>\n",
              "      <td>...</td>\n",
              "      <td>-0.428752</td>\n",
              "      <td>-1.121552</td>\n",
              "      <td>-0.379267</td>\n",
              "      <td>-0.593705</td>\n",
              "      <td>0.049609</td>\n",
              "      <td>1.765114</td>\n",
              "      <td>0.313533</td>\n",
              "      <td>-0.329781</td>\n",
              "      <td>-1.220524</td>\n",
              "      <td>0.033114</td>\n",
              "    </tr>\n",
              "    <tr>\n",
              "      <th>5249</th>\n",
              "      <td>1</td>\n",
              "      <td>-0.750874</td>\n",
              "      <td>0.267008</td>\n",
              "      <td>-0.155041</td>\n",
              "      <td>-0.179867</td>\n",
              "      <td>-0.155041</td>\n",
              "      <td>-0.303999</td>\n",
              "      <td>-0.279173</td>\n",
              "      <td>1.731765</td>\n",
              "      <td>0.564925</td>\n",
              "      <td>...</td>\n",
              "      <td>-0.303999</td>\n",
              "      <td>-0.850180</td>\n",
              "      <td>0.937321</td>\n",
              "      <td>-1.594972</td>\n",
              "      <td>1.036626</td>\n",
              "      <td>1.582807</td>\n",
              "      <td>1.036626</td>\n",
              "      <td>-0.254346</td>\n",
              "      <td>0.664230</td>\n",
              "      <td>1.831071</td>\n",
              "    </tr>\n",
              "  </tbody>\n",
              "</table>\n",
              "<p>5250 rows × 1201 columns</p>\n",
              "</div>\n",
              "      <button class=\"colab-df-convert\" onclick=\"convertToInteractive('df-30573737-5df0-4f4a-8c86-33c1eb585561')\"\n",
              "              title=\"Convert this dataframe to an interactive table.\"\n",
              "              style=\"display:none;\">\n",
              "        \n",
              "  <svg xmlns=\"http://www.w3.org/2000/svg\" height=\"24px\"viewBox=\"0 0 24 24\"\n",
              "       width=\"24px\">\n",
              "    <path d=\"M0 0h24v24H0V0z\" fill=\"none\"/>\n",
              "    <path d=\"M18.56 5.44l.94 2.06.94-2.06 2.06-.94-2.06-.94-.94-2.06-.94 2.06-2.06.94zm-11 1L8.5 8.5l.94-2.06 2.06-.94-2.06-.94L8.5 2.5l-.94 2.06-2.06.94zm10 10l.94 2.06.94-2.06 2.06-.94-2.06-.94-.94-2.06-.94 2.06-2.06.94z\"/><path d=\"M17.41 7.96l-1.37-1.37c-.4-.4-.92-.59-1.43-.59-.52 0-1.04.2-1.43.59L10.3 9.45l-7.72 7.72c-.78.78-.78 2.05 0 2.83L4 21.41c.39.39.9.59 1.41.59.51 0 1.02-.2 1.41-.59l7.78-7.78 2.81-2.81c.8-.78.8-2.07 0-2.86zM5.41 20L4 18.59l7.72-7.72 1.47 1.35L5.41 20z\"/>\n",
              "  </svg>\n",
              "      </button>\n",
              "      \n",
              "  <style>\n",
              "    .colab-df-container {\n",
              "      display:flex;\n",
              "      flex-wrap:wrap;\n",
              "      gap: 12px;\n",
              "    }\n",
              "\n",
              "    .colab-df-convert {\n",
              "      background-color: #E8F0FE;\n",
              "      border: none;\n",
              "      border-radius: 50%;\n",
              "      cursor: pointer;\n",
              "      display: none;\n",
              "      fill: #1967D2;\n",
              "      height: 32px;\n",
              "      padding: 0 0 0 0;\n",
              "      width: 32px;\n",
              "    }\n",
              "\n",
              "    .colab-df-convert:hover {\n",
              "      background-color: #E2EBFA;\n",
              "      box-shadow: 0px 1px 2px rgba(60, 64, 67, 0.3), 0px 1px 3px 1px rgba(60, 64, 67, 0.15);\n",
              "      fill: #174EA6;\n",
              "    }\n",
              "\n",
              "    [theme=dark] .colab-df-convert {\n",
              "      background-color: #3B4455;\n",
              "      fill: #D2E3FC;\n",
              "    }\n",
              "\n",
              "    [theme=dark] .colab-df-convert:hover {\n",
              "      background-color: #434B5C;\n",
              "      box-shadow: 0px 1px 3px 1px rgba(0, 0, 0, 0.15);\n",
              "      filter: drop-shadow(0px 1px 2px rgba(0, 0, 0, 0.3));\n",
              "      fill: #FFFFFF;\n",
              "    }\n",
              "  </style>\n",
              "\n",
              "      <script>\n",
              "        const buttonEl =\n",
              "          document.querySelector('#df-30573737-5df0-4f4a-8c86-33c1eb585561 button.colab-df-convert');\n",
              "        buttonEl.style.display =\n",
              "          google.colab.kernel.accessAllowed ? 'block' : 'none';\n",
              "\n",
              "        async function convertToInteractive(key) {\n",
              "          const element = document.querySelector('#df-30573737-5df0-4f4a-8c86-33c1eb585561');\n",
              "          const dataTable =\n",
              "            await google.colab.kernel.invokeFunction('convertToInteractive',\n",
              "                                                     [key], {});\n",
              "          if (!dataTable) return;\n",
              "\n",
              "          const docLinkHtml = 'Like what you see? Visit the ' +\n",
              "            '<a target=\"_blank\" href=https://colab.research.google.com/notebooks/data_table.ipynb>data table notebook</a>'\n",
              "            + ' to learn more about interactive tables.';\n",
              "          element.innerHTML = '';\n",
              "          dataTable['output_type'] = 'display_data';\n",
              "          await google.colab.output.renderOutput(dataTable, element);\n",
              "          const docLink = document.createElement('div');\n",
              "          docLink.innerHTML = docLinkHtml;\n",
              "          element.appendChild(docLink);\n",
              "        }\n",
              "      </script>\n",
              "    </div>\n",
              "  </div>\n",
              "  "
            ]
          },
          "metadata": {},
          "execution_count": 5
        }
      ]
    },
    {
      "cell_type": "code",
      "source": [
        "print(df['labels'].value_counts())"
      ],
      "metadata": {
        "colab": {
          "base_uri": "https://localhost:8080/"
        },
        "id": "rj6wp4Sn0p1X",
        "outputId": "eea1fbe1-0020-4c0c-e445-da6b277b8fa8"
      },
      "execution_count": 6,
      "outputs": [
        {
          "output_type": "stream",
          "name": "stdout",
          "text": [
            "0    3850\n",
            "1    1400\n",
            "Name: labels, dtype: int64\n"
          ]
        }
      ]
    },
    {
      "cell_type": "code",
      "source": [
        "df.head(5)"
      ],
      "metadata": {
        "colab": {
          "base_uri": "https://localhost:8080/",
          "height": 236
        },
        "id": "nMGt0AdG0tcK",
        "outputId": "25590901-1255-4d60-8729-730111ef61ff"
      },
      "execution_count": 7,
      "outputs": [
        {
          "output_type": "execute_result",
          "data": {
            "text/plain": [
              "   labels       f_0       f_1       f_2       f_3       f_4       f_5  \\\n",
              "0       0 -2.033875  0.978446 -0.142131 -0.177117 -1.470684  1.669562   \n",
              "1       1 -0.348835  0.294815 -0.557577 -2.020773 -1.234715  1.633930   \n",
              "2       1  0.113248 -0.607726 -0.947791  0.830851  0.998291  0.498321   \n",
              "3       0  1.223321 -0.479048 -1.925789  1.680377  0.021840 -1.453307   \n",
              "4       0  0.160109  0.422684 -0.308029  0.227744  0.432854  0.608348   \n",
              "\n",
              "        f_6       f_7       f_8  ...    f_1190    f_1191    f_1192    f_1193  \\\n",
              "0 -0.196530 -0.125239 -0.452284  ... -1.111266  0.716084  0.060039  0.301279   \n",
              "1 -1.680658 -0.358146  0.166122  ...  0.735240  0.829781  1.521941  1.347946   \n",
              "2 -1.493958  0.789572 -1.311018  ...  0.104698  0.616189 -1.035953  2.111387   \n",
              "3  0.605559 -0.019024  1.065448  ...  0.360237 -1.957863 -0.123384  1.505329   \n",
              "4  0.193832  1.035091 -0.538868  ...  0.416629  1.441766  0.212572 -0.994721   \n",
              "\n",
              "     f_1194    f_1195    f_1196    f_1197    f_1198    f_1199  \n",
              "0 -1.174846 -1.076498 -0.069452 -0.604012 -2.179176  0.558003  \n",
              "1  0.754505  1.330642 -0.754453  0.582956  0.252671  1.495870  \n",
              "2 -0.984415  1.148076 -1.433554  0.243372  0.170083  1.274795  \n",
              "3  0.660290 -1.769443 -0.547756 -0.568122  0.244645  0.982116  \n",
              "4  1.143999 -2.166923 -1.199248 -1.028636  0.752791  0.317169  \n",
              "\n",
              "[5 rows x 1201 columns]"
            ],
            "text/html": [
              "\n",
              "  <div id=\"df-cfb3e0cd-dedb-47d3-9b40-3f9a91f8efd8\">\n",
              "    <div class=\"colab-df-container\">\n",
              "      <div>\n",
              "<style scoped>\n",
              "    .dataframe tbody tr th:only-of-type {\n",
              "        vertical-align: middle;\n",
              "    }\n",
              "\n",
              "    .dataframe tbody tr th {\n",
              "        vertical-align: top;\n",
              "    }\n",
              "\n",
              "    .dataframe thead th {\n",
              "        text-align: right;\n",
              "    }\n",
              "</style>\n",
              "<table border=\"1\" class=\"dataframe\">\n",
              "  <thead>\n",
              "    <tr style=\"text-align: right;\">\n",
              "      <th></th>\n",
              "      <th>labels</th>\n",
              "      <th>f_0</th>\n",
              "      <th>f_1</th>\n",
              "      <th>f_2</th>\n",
              "      <th>f_3</th>\n",
              "      <th>f_4</th>\n",
              "      <th>f_5</th>\n",
              "      <th>f_6</th>\n",
              "      <th>f_7</th>\n",
              "      <th>f_8</th>\n",
              "      <th>...</th>\n",
              "      <th>f_1190</th>\n",
              "      <th>f_1191</th>\n",
              "      <th>f_1192</th>\n",
              "      <th>f_1193</th>\n",
              "      <th>f_1194</th>\n",
              "      <th>f_1195</th>\n",
              "      <th>f_1196</th>\n",
              "      <th>f_1197</th>\n",
              "      <th>f_1198</th>\n",
              "      <th>f_1199</th>\n",
              "    </tr>\n",
              "  </thead>\n",
              "  <tbody>\n",
              "    <tr>\n",
              "      <th>0</th>\n",
              "      <td>0</td>\n",
              "      <td>-2.033875</td>\n",
              "      <td>0.978446</td>\n",
              "      <td>-0.142131</td>\n",
              "      <td>-0.177117</td>\n",
              "      <td>-1.470684</td>\n",
              "      <td>1.669562</td>\n",
              "      <td>-0.196530</td>\n",
              "      <td>-0.125239</td>\n",
              "      <td>-0.452284</td>\n",
              "      <td>...</td>\n",
              "      <td>-1.111266</td>\n",
              "      <td>0.716084</td>\n",
              "      <td>0.060039</td>\n",
              "      <td>0.301279</td>\n",
              "      <td>-1.174846</td>\n",
              "      <td>-1.076498</td>\n",
              "      <td>-0.069452</td>\n",
              "      <td>-0.604012</td>\n",
              "      <td>-2.179176</td>\n",
              "      <td>0.558003</td>\n",
              "    </tr>\n",
              "    <tr>\n",
              "      <th>1</th>\n",
              "      <td>1</td>\n",
              "      <td>-0.348835</td>\n",
              "      <td>0.294815</td>\n",
              "      <td>-0.557577</td>\n",
              "      <td>-2.020773</td>\n",
              "      <td>-1.234715</td>\n",
              "      <td>1.633930</td>\n",
              "      <td>-1.680658</td>\n",
              "      <td>-0.358146</td>\n",
              "      <td>0.166122</td>\n",
              "      <td>...</td>\n",
              "      <td>0.735240</td>\n",
              "      <td>0.829781</td>\n",
              "      <td>1.521941</td>\n",
              "      <td>1.347946</td>\n",
              "      <td>0.754505</td>\n",
              "      <td>1.330642</td>\n",
              "      <td>-0.754453</td>\n",
              "      <td>0.582956</td>\n",
              "      <td>0.252671</td>\n",
              "      <td>1.495870</td>\n",
              "    </tr>\n",
              "    <tr>\n",
              "      <th>2</th>\n",
              "      <td>1</td>\n",
              "      <td>0.113248</td>\n",
              "      <td>-0.607726</td>\n",
              "      <td>-0.947791</td>\n",
              "      <td>0.830851</td>\n",
              "      <td>0.998291</td>\n",
              "      <td>0.498321</td>\n",
              "      <td>-1.493958</td>\n",
              "      <td>0.789572</td>\n",
              "      <td>-1.311018</td>\n",
              "      <td>...</td>\n",
              "      <td>0.104698</td>\n",
              "      <td>0.616189</td>\n",
              "      <td>-1.035953</td>\n",
              "      <td>2.111387</td>\n",
              "      <td>-0.984415</td>\n",
              "      <td>1.148076</td>\n",
              "      <td>-1.433554</td>\n",
              "      <td>0.243372</td>\n",
              "      <td>0.170083</td>\n",
              "      <td>1.274795</td>\n",
              "    </tr>\n",
              "    <tr>\n",
              "      <th>3</th>\n",
              "      <td>0</td>\n",
              "      <td>1.223321</td>\n",
              "      <td>-0.479048</td>\n",
              "      <td>-1.925789</td>\n",
              "      <td>1.680377</td>\n",
              "      <td>0.021840</td>\n",
              "      <td>-1.453307</td>\n",
              "      <td>0.605559</td>\n",
              "      <td>-0.019024</td>\n",
              "      <td>1.065448</td>\n",
              "      <td>...</td>\n",
              "      <td>0.360237</td>\n",
              "      <td>-1.957863</td>\n",
              "      <td>-0.123384</td>\n",
              "      <td>1.505329</td>\n",
              "      <td>0.660290</td>\n",
              "      <td>-1.769443</td>\n",
              "      <td>-0.547756</td>\n",
              "      <td>-0.568122</td>\n",
              "      <td>0.244645</td>\n",
              "      <td>0.982116</td>\n",
              "    </tr>\n",
              "    <tr>\n",
              "      <th>4</th>\n",
              "      <td>0</td>\n",
              "      <td>0.160109</td>\n",
              "      <td>0.422684</td>\n",
              "      <td>-0.308029</td>\n",
              "      <td>0.227744</td>\n",
              "      <td>0.432854</td>\n",
              "      <td>0.608348</td>\n",
              "      <td>0.193832</td>\n",
              "      <td>1.035091</td>\n",
              "      <td>-0.538868</td>\n",
              "      <td>...</td>\n",
              "      <td>0.416629</td>\n",
              "      <td>1.441766</td>\n",
              "      <td>0.212572</td>\n",
              "      <td>-0.994721</td>\n",
              "      <td>1.143999</td>\n",
              "      <td>-2.166923</td>\n",
              "      <td>-1.199248</td>\n",
              "      <td>-1.028636</td>\n",
              "      <td>0.752791</td>\n",
              "      <td>0.317169</td>\n",
              "    </tr>\n",
              "  </tbody>\n",
              "</table>\n",
              "<p>5 rows × 1201 columns</p>\n",
              "</div>\n",
              "      <button class=\"colab-df-convert\" onclick=\"convertToInteractive('df-cfb3e0cd-dedb-47d3-9b40-3f9a91f8efd8')\"\n",
              "              title=\"Convert this dataframe to an interactive table.\"\n",
              "              style=\"display:none;\">\n",
              "        \n",
              "  <svg xmlns=\"http://www.w3.org/2000/svg\" height=\"24px\"viewBox=\"0 0 24 24\"\n",
              "       width=\"24px\">\n",
              "    <path d=\"M0 0h24v24H0V0z\" fill=\"none\"/>\n",
              "    <path d=\"M18.56 5.44l.94 2.06.94-2.06 2.06-.94-2.06-.94-.94-2.06-.94 2.06-2.06.94zm-11 1L8.5 8.5l.94-2.06 2.06-.94-2.06-.94L8.5 2.5l-.94 2.06-2.06.94zm10 10l.94 2.06.94-2.06 2.06-.94-2.06-.94-.94-2.06-.94 2.06-2.06.94z\"/><path d=\"M17.41 7.96l-1.37-1.37c-.4-.4-.92-.59-1.43-.59-.52 0-1.04.2-1.43.59L10.3 9.45l-7.72 7.72c-.78.78-.78 2.05 0 2.83L4 21.41c.39.39.9.59 1.41.59.51 0 1.02-.2 1.41-.59l7.78-7.78 2.81-2.81c.8-.78.8-2.07 0-2.86zM5.41 20L4 18.59l7.72-7.72 1.47 1.35L5.41 20z\"/>\n",
              "  </svg>\n",
              "      </button>\n",
              "      \n",
              "  <style>\n",
              "    .colab-df-container {\n",
              "      display:flex;\n",
              "      flex-wrap:wrap;\n",
              "      gap: 12px;\n",
              "    }\n",
              "\n",
              "    .colab-df-convert {\n",
              "      background-color: #E8F0FE;\n",
              "      border: none;\n",
              "      border-radius: 50%;\n",
              "      cursor: pointer;\n",
              "      display: none;\n",
              "      fill: #1967D2;\n",
              "      height: 32px;\n",
              "      padding: 0 0 0 0;\n",
              "      width: 32px;\n",
              "    }\n",
              "\n",
              "    .colab-df-convert:hover {\n",
              "      background-color: #E2EBFA;\n",
              "      box-shadow: 0px 1px 2px rgba(60, 64, 67, 0.3), 0px 1px 3px 1px rgba(60, 64, 67, 0.15);\n",
              "      fill: #174EA6;\n",
              "    }\n",
              "\n",
              "    [theme=dark] .colab-df-convert {\n",
              "      background-color: #3B4455;\n",
              "      fill: #D2E3FC;\n",
              "    }\n",
              "\n",
              "    [theme=dark] .colab-df-convert:hover {\n",
              "      background-color: #434B5C;\n",
              "      box-shadow: 0px 1px 3px 1px rgba(0, 0, 0, 0.15);\n",
              "      filter: drop-shadow(0px 1px 2px rgba(0, 0, 0, 0.3));\n",
              "      fill: #FFFFFF;\n",
              "    }\n",
              "  </style>\n",
              "\n",
              "      <script>\n",
              "        const buttonEl =\n",
              "          document.querySelector('#df-cfb3e0cd-dedb-47d3-9b40-3f9a91f8efd8 button.colab-df-convert');\n",
              "        buttonEl.style.display =\n",
              "          google.colab.kernel.accessAllowed ? 'block' : 'none';\n",
              "\n",
              "        async function convertToInteractive(key) {\n",
              "          const element = document.querySelector('#df-cfb3e0cd-dedb-47d3-9b40-3f9a91f8efd8');\n",
              "          const dataTable =\n",
              "            await google.colab.kernel.invokeFunction('convertToInteractive',\n",
              "                                                     [key], {});\n",
              "          if (!dataTable) return;\n",
              "\n",
              "          const docLinkHtml = 'Like what you see? Visit the ' +\n",
              "            '<a target=\"_blank\" href=https://colab.research.google.com/notebooks/data_table.ipynb>data table notebook</a>'\n",
              "            + ' to learn more about interactive tables.';\n",
              "          element.innerHTML = '';\n",
              "          dataTable['output_type'] = 'display_data';\n",
              "          await google.colab.output.renderOutput(dataTable, element);\n",
              "          const docLink = document.createElement('div');\n",
              "          docLink.innerHTML = docLinkHtml;\n",
              "          element.appendChild(docLink);\n",
              "        }\n",
              "      </script>\n",
              "    </div>\n",
              "  </div>\n",
              "  "
            ]
          },
          "metadata": {},
          "execution_count": 7
        }
      ]
    },
    {
      "cell_type": "code",
      "source": [
        "from sklearn.model_selection import train_test_split\n"
      ],
      "metadata": {
        "id": "u3EydXue0vaa"
      },
      "execution_count": 8,
      "outputs": []
    },
    {
      "cell_type": "code",
      "source": [
        "X = df.drop(['labels'], axis=1)\n",
        "y = df['labels']"
      ],
      "metadata": {
        "id": "HtunYCMI0xKh"
      },
      "execution_count": 9,
      "outputs": []
    },
    {
      "cell_type": "code",
      "source": [
        "X_train, X_val, y_train, y_val = train_test_split(X, y, test_size=0.2, random_state=42)"
      ],
      "metadata": {
        "id": "AcivfGnc00CP"
      },
      "execution_count": 10,
      "outputs": []
    },
    {
      "cell_type": "code",
      "source": [
        "print(\"Training data shape:\", X_train.shape, y_train.shape)\n",
        "print(\"Validation data shape:\", X_val.shape, y_val.shape)"
      ],
      "metadata": {
        "colab": {
          "base_uri": "https://localhost:8080/"
        },
        "id": "PIPMwMTn01zL",
        "outputId": "dd10b0aa-d1fa-497f-ec7d-64cc6ace5884"
      },
      "execution_count": 11,
      "outputs": [
        {
          "output_type": "stream",
          "name": "stdout",
          "text": [
            "Training data shape: (4200, 1200) (4200,)\n",
            "Validation data shape: (1050, 1200) (1050,)\n"
          ]
        }
      ]
    },
    {
      "cell_type": "code",
      "source": [
        "from sklearn.impute import SimpleImputer\n",
        "imputer = SimpleImputer(strategy='mean')\n",
        "X_train = imputer.fit_transform(X_train)\n",
        "X_val = imputer.transform(X_val)"
      ],
      "metadata": {
        "id": "0awtNEwl034F"
      },
      "execution_count": 12,
      "outputs": []
    },
    {
      "cell_type": "code",
      "source": [
        "import xgboost as xgb"
      ],
      "metadata": {
        "id": "wSLbkDMr070D"
      },
      "execution_count": 13,
      "outputs": []
    },
    {
      "cell_type": "code",
      "source": [
        "dtrain = xgb.DMatrix(X_train, label=y_train)\n",
        "dval = xgb.DMatrix(X_val, label=y_val)"
      ],
      "metadata": {
        "id": "YlEpWF9R0_Sc"
      },
      "execution_count": 14,
      "outputs": []
    },
    {
      "cell_type": "code",
      "source": [
        "params = {\n",
        "    'objective': 'binary:logistic',\n",
        "    'eval_metric': 'logloss',\n",
        "    'eta': 0.1,\n",
        "    'max_depth': 3,\n",
        "    'subsample': 0.8,\n",
        "    'colsample_bytree': 0.8\n",
        "}\n"
      ],
      "metadata": {
        "id": "MPXAaUfX1BuC"
      },
      "execution_count": 15,
      "outputs": []
    },
    {
      "cell_type": "code",
      "source": [
        "model = xgb.train(params, dtrain, num_boost_round=100)"
      ],
      "metadata": {
        "id": "t4ZeT9V81Fvc"
      },
      "execution_count": 16,
      "outputs": []
    },
    {
      "cell_type": "code",
      "source": [
        "y_pred = model.predict(dval)\n",
        "y_pred_binary = [1 if p >= 0.5 else 0 for p in y_pred]"
      ],
      "metadata": {
        "id": "upTM8WdR1IjU"
      },
      "execution_count": 29,
      "outputs": []
    },
    {
      "cell_type": "code",
      "source": [
        "from sklearn.metrics import accuracy_score"
      ],
      "metadata": {
        "id": "IFCcd2_P1hDB"
      },
      "execution_count": 30,
      "outputs": []
    },
    {
      "cell_type": "code",
      "source": [
        "accuracy = accuracy_score(y_val, y_pred_binary)\n",
        "print(\"Validation Accuracy:\", accuracy)"
      ],
      "metadata": {
        "colab": {
          "base_uri": "https://localhost:8080/"
        },
        "id": "bUpdQPk11N-4",
        "outputId": "d83422ba-f41e-49f5-e3f7-0af3274f1722"
      },
      "execution_count": 31,
      "outputs": [
        {
          "output_type": "stream",
          "name": "stdout",
          "text": [
            "Validation Accuracy: 0.8714285714285714\n"
          ]
        }
      ]
    },
    {
      "cell_type": "code",
      "source": [
        "dftest=pd.read_csv(r\"/content/drive/MyDrive/generativeai/test.csv\")"
      ],
      "metadata": {
        "id": "Bn2socG21RE8"
      },
      "execution_count": 32,
      "outputs": []
    },
    {
      "cell_type": "code",
      "source": [
        "pd.DataFrame(dftest)"
      ],
      "metadata": {
        "colab": {
          "base_uri": "https://localhost:8080/",
          "height": 424
        },
        "id": "3VFyfv5k1XDR",
        "outputId": "5135b2d2-3195-4e37-f04a-077d94588a34"
      },
      "execution_count": 33,
      "outputs": [
        {
          "output_type": "execute_result",
          "data": {
            "text/plain": [
              "        id       f_0       f_1       f_2       f_3       f_4       f_5  \\\n",
              "0        1 -3.388242  0.868285 -0.427619 -0.678964 -1.625735  0.262761   \n",
              "1        2 -0.496920  0.952381  0.989040  0.451422  0.513516 -0.099658   \n",
              "2        3  1.128369 -0.537951  2.544358  1.165254 -1.904994  0.776961   \n",
              "3        4  0.051253  1.746814  0.681177  1.844524 -0.327977  1.226839   \n",
              "4        5  1.423209 -0.983594 -1.694170  1.197507  1.044211  0.518777   \n",
              "...    ...       ...       ...       ...       ...       ...       ...   \n",
              "2245  2246  0.889888 -0.319077  0.849589  0.822723  0.876455  0.325704   \n",
              "2246  2247  1.005737 -0.064755  1.163494  1.163494  1.163494  0.724028   \n",
              "2247  2248  1.252086  1.223561  0.153859 -0.987156  0.239435 -0.003031   \n",
              "2248  2249  1.042624 -0.129166  1.066538  1.030667  1.162195  0.707827   \n",
              "2249  2250 -1.319572 -0.485173 -0.098500  2.323293 -0.139202 -0.953250   \n",
              "\n",
              "           f_6       f_7       f_8  ...    f_1190    f_1191    f_1192  \\\n",
              "0     1.243040  1.537751 -0.352028  ... -0.776403 -0.662884 -0.257091   \n",
              "1    -1.124326  0.729430 -0.216224  ...  0.379635 -1.760084  1.125450   \n",
              "2    -0.495768  0.060111 -1.418468  ...  1.165254 -1.373589 -0.483701   \n",
              "3    -0.085519  0.379008 -1.003667  ... -0.442288 -2.794472 -0.763468   \n",
              "4    -0.298612 -0.365174  0.738447  ... -2.624450 -3.200223  0.711422   \n",
              "...        ...       ...       ...  ...       ...       ...       ...   \n",
              "2245  0.876455 -0.910127  0.889888  ...  0.889888 -2.226556 -0.090717   \n",
              "2246  0.712760 -0.785929 -1.225394  ...  1.163494 -1.270468 -0.932417   \n",
              "2247 -1.158309  1.237823 -1.272410  ...  0.581740 -1.386512  0.809943   \n",
              "2248 -1.396612  0.014319 -1.025944  ...  1.078495 -1.193343  0.086061   \n",
              "2249  0.084661 -0.566577  1.427840  ... -0.505524 -0.220607 -0.871845   \n",
              "\n",
              "        f_1193    f_1194    f_1195    f_1196    f_1197    f_1198    f_1199  \n",
              "0    -1.168413  0.223260 -0.482520 -0.085453 -0.382265 -0.539349 -1.682404  \n",
              "1    -0.328047 -0.880305 -1.257607  0.964312  2.021104  0.655021 -0.423029  \n",
              "2    -0.964782 -0.869555  0.066040 -0.444567 -0.531935 -0.878660  1.099488  \n",
              "3    -0.789832 -0.113209 -2.703150 -2.058728  1.070627 -0.458045 -0.435825  \n",
              "4    -0.190394  0.337224 -1.656639  0.707360 -0.562290  1.471181 -0.192000  \n",
              "...        ...       ...       ...       ...       ...       ...       ...  \n",
              "2245 -1.393713 -0.896694 -0.399675 -0.856395  0.876455  0.863022 -0.601169  \n",
              "2246 -1.169053 -0.008414 -0.605636 -0.323927  1.163494 -1.315541  0.047928  \n",
              "2247 -1.243885  0.153859 -0.630589  1.594391  1.252086 -1.429300  1.408976  \n",
              "2248 -0.081338 -0.978116 -0.368307 -0.129166  1.090452 -1.444440  0.468686  \n",
              "2249  0.654495  0.430631 -0.444470 -0.118851  0.471334 -0.078149 -0.566577  \n",
              "\n",
              "[2250 rows x 1201 columns]"
            ],
            "text/html": [
              "\n",
              "  <div id=\"df-46bc44aa-e513-4df9-906e-853e5c3f981f\">\n",
              "    <div class=\"colab-df-container\">\n",
              "      <div>\n",
              "<style scoped>\n",
              "    .dataframe tbody tr th:only-of-type {\n",
              "        vertical-align: middle;\n",
              "    }\n",
              "\n",
              "    .dataframe tbody tr th {\n",
              "        vertical-align: top;\n",
              "    }\n",
              "\n",
              "    .dataframe thead th {\n",
              "        text-align: right;\n",
              "    }\n",
              "</style>\n",
              "<table border=\"1\" class=\"dataframe\">\n",
              "  <thead>\n",
              "    <tr style=\"text-align: right;\">\n",
              "      <th></th>\n",
              "      <th>id</th>\n",
              "      <th>f_0</th>\n",
              "      <th>f_1</th>\n",
              "      <th>f_2</th>\n",
              "      <th>f_3</th>\n",
              "      <th>f_4</th>\n",
              "      <th>f_5</th>\n",
              "      <th>f_6</th>\n",
              "      <th>f_7</th>\n",
              "      <th>f_8</th>\n",
              "      <th>...</th>\n",
              "      <th>f_1190</th>\n",
              "      <th>f_1191</th>\n",
              "      <th>f_1192</th>\n",
              "      <th>f_1193</th>\n",
              "      <th>f_1194</th>\n",
              "      <th>f_1195</th>\n",
              "      <th>f_1196</th>\n",
              "      <th>f_1197</th>\n",
              "      <th>f_1198</th>\n",
              "      <th>f_1199</th>\n",
              "    </tr>\n",
              "  </thead>\n",
              "  <tbody>\n",
              "    <tr>\n",
              "      <th>0</th>\n",
              "      <td>1</td>\n",
              "      <td>-3.388242</td>\n",
              "      <td>0.868285</td>\n",
              "      <td>-0.427619</td>\n",
              "      <td>-0.678964</td>\n",
              "      <td>-1.625735</td>\n",
              "      <td>0.262761</td>\n",
              "      <td>1.243040</td>\n",
              "      <td>1.537751</td>\n",
              "      <td>-0.352028</td>\n",
              "      <td>...</td>\n",
              "      <td>-0.776403</td>\n",
              "      <td>-0.662884</td>\n",
              "      <td>-0.257091</td>\n",
              "      <td>-1.168413</td>\n",
              "      <td>0.223260</td>\n",
              "      <td>-0.482520</td>\n",
              "      <td>-0.085453</td>\n",
              "      <td>-0.382265</td>\n",
              "      <td>-0.539349</td>\n",
              "      <td>-1.682404</td>\n",
              "    </tr>\n",
              "    <tr>\n",
              "      <th>1</th>\n",
              "      <td>2</td>\n",
              "      <td>-0.496920</td>\n",
              "      <td>0.952381</td>\n",
              "      <td>0.989040</td>\n",
              "      <td>0.451422</td>\n",
              "      <td>0.513516</td>\n",
              "      <td>-0.099658</td>\n",
              "      <td>-1.124326</td>\n",
              "      <td>0.729430</td>\n",
              "      <td>-0.216224</td>\n",
              "      <td>...</td>\n",
              "      <td>0.379635</td>\n",
              "      <td>-1.760084</td>\n",
              "      <td>1.125450</td>\n",
              "      <td>-0.328047</td>\n",
              "      <td>-0.880305</td>\n",
              "      <td>-1.257607</td>\n",
              "      <td>0.964312</td>\n",
              "      <td>2.021104</td>\n",
              "      <td>0.655021</td>\n",
              "      <td>-0.423029</td>\n",
              "    </tr>\n",
              "    <tr>\n",
              "      <th>2</th>\n",
              "      <td>3</td>\n",
              "      <td>1.128369</td>\n",
              "      <td>-0.537951</td>\n",
              "      <td>2.544358</td>\n",
              "      <td>1.165254</td>\n",
              "      <td>-1.904994</td>\n",
              "      <td>0.776961</td>\n",
              "      <td>-0.495768</td>\n",
              "      <td>0.060111</td>\n",
              "      <td>-1.418468</td>\n",
              "      <td>...</td>\n",
              "      <td>1.165254</td>\n",
              "      <td>-1.373589</td>\n",
              "      <td>-0.483701</td>\n",
              "      <td>-0.964782</td>\n",
              "      <td>-0.869555</td>\n",
              "      <td>0.066040</td>\n",
              "      <td>-0.444567</td>\n",
              "      <td>-0.531935</td>\n",
              "      <td>-0.878660</td>\n",
              "      <td>1.099488</td>\n",
              "    </tr>\n",
              "    <tr>\n",
              "      <th>3</th>\n",
              "      <td>4</td>\n",
              "      <td>0.051253</td>\n",
              "      <td>1.746814</td>\n",
              "      <td>0.681177</td>\n",
              "      <td>1.844524</td>\n",
              "      <td>-0.327977</td>\n",
              "      <td>1.226839</td>\n",
              "      <td>-0.085519</td>\n",
              "      <td>0.379008</td>\n",
              "      <td>-1.003667</td>\n",
              "      <td>...</td>\n",
              "      <td>-0.442288</td>\n",
              "      <td>-2.794472</td>\n",
              "      <td>-0.763468</td>\n",
              "      <td>-0.789832</td>\n",
              "      <td>-0.113209</td>\n",
              "      <td>-2.703150</td>\n",
              "      <td>-2.058728</td>\n",
              "      <td>1.070627</td>\n",
              "      <td>-0.458045</td>\n",
              "      <td>-0.435825</td>\n",
              "    </tr>\n",
              "    <tr>\n",
              "      <th>4</th>\n",
              "      <td>5</td>\n",
              "      <td>1.423209</td>\n",
              "      <td>-0.983594</td>\n",
              "      <td>-1.694170</td>\n",
              "      <td>1.197507</td>\n",
              "      <td>1.044211</td>\n",
              "      <td>0.518777</td>\n",
              "      <td>-0.298612</td>\n",
              "      <td>-0.365174</td>\n",
              "      <td>0.738447</td>\n",
              "      <td>...</td>\n",
              "      <td>-2.624450</td>\n",
              "      <td>-3.200223</td>\n",
              "      <td>0.711422</td>\n",
              "      <td>-0.190394</td>\n",
              "      <td>0.337224</td>\n",
              "      <td>-1.656639</td>\n",
              "      <td>0.707360</td>\n",
              "      <td>-0.562290</td>\n",
              "      <td>1.471181</td>\n",
              "      <td>-0.192000</td>\n",
              "    </tr>\n",
              "    <tr>\n",
              "      <th>...</th>\n",
              "      <td>...</td>\n",
              "      <td>...</td>\n",
              "      <td>...</td>\n",
              "      <td>...</td>\n",
              "      <td>...</td>\n",
              "      <td>...</td>\n",
              "      <td>...</td>\n",
              "      <td>...</td>\n",
              "      <td>...</td>\n",
              "      <td>...</td>\n",
              "      <td>...</td>\n",
              "      <td>...</td>\n",
              "      <td>...</td>\n",
              "      <td>...</td>\n",
              "      <td>...</td>\n",
              "      <td>...</td>\n",
              "      <td>...</td>\n",
              "      <td>...</td>\n",
              "      <td>...</td>\n",
              "      <td>...</td>\n",
              "      <td>...</td>\n",
              "    </tr>\n",
              "    <tr>\n",
              "      <th>2245</th>\n",
              "      <td>2246</td>\n",
              "      <td>0.889888</td>\n",
              "      <td>-0.319077</td>\n",
              "      <td>0.849589</td>\n",
              "      <td>0.822723</td>\n",
              "      <td>0.876455</td>\n",
              "      <td>0.325704</td>\n",
              "      <td>0.876455</td>\n",
              "      <td>-0.910127</td>\n",
              "      <td>0.889888</td>\n",
              "      <td>...</td>\n",
              "      <td>0.889888</td>\n",
              "      <td>-2.226556</td>\n",
              "      <td>-0.090717</td>\n",
              "      <td>-1.393713</td>\n",
              "      <td>-0.896694</td>\n",
              "      <td>-0.399675</td>\n",
              "      <td>-0.856395</td>\n",
              "      <td>0.876455</td>\n",
              "      <td>0.863022</td>\n",
              "      <td>-0.601169</td>\n",
              "    </tr>\n",
              "    <tr>\n",
              "      <th>2246</th>\n",
              "      <td>2247</td>\n",
              "      <td>1.005737</td>\n",
              "      <td>-0.064755</td>\n",
              "      <td>1.163494</td>\n",
              "      <td>1.163494</td>\n",
              "      <td>1.163494</td>\n",
              "      <td>0.724028</td>\n",
              "      <td>0.712760</td>\n",
              "      <td>-0.785929</td>\n",
              "      <td>-1.225394</td>\n",
              "      <td>...</td>\n",
              "      <td>1.163494</td>\n",
              "      <td>-1.270468</td>\n",
              "      <td>-0.932417</td>\n",
              "      <td>-1.169053</td>\n",
              "      <td>-0.008414</td>\n",
              "      <td>-0.605636</td>\n",
              "      <td>-0.323927</td>\n",
              "      <td>1.163494</td>\n",
              "      <td>-1.315541</td>\n",
              "      <td>0.047928</td>\n",
              "    </tr>\n",
              "    <tr>\n",
              "      <th>2247</th>\n",
              "      <td>2248</td>\n",
              "      <td>1.252086</td>\n",
              "      <td>1.223561</td>\n",
              "      <td>0.153859</td>\n",
              "      <td>-0.987156</td>\n",
              "      <td>0.239435</td>\n",
              "      <td>-0.003031</td>\n",
              "      <td>-1.158309</td>\n",
              "      <td>1.237823</td>\n",
              "      <td>-1.272410</td>\n",
              "      <td>...</td>\n",
              "      <td>0.581740</td>\n",
              "      <td>-1.386512</td>\n",
              "      <td>0.809943</td>\n",
              "      <td>-1.243885</td>\n",
              "      <td>0.153859</td>\n",
              "      <td>-0.630589</td>\n",
              "      <td>1.594391</td>\n",
              "      <td>1.252086</td>\n",
              "      <td>-1.429300</td>\n",
              "      <td>1.408976</td>\n",
              "    </tr>\n",
              "    <tr>\n",
              "      <th>2248</th>\n",
              "      <td>2249</td>\n",
              "      <td>1.042624</td>\n",
              "      <td>-0.129166</td>\n",
              "      <td>1.066538</td>\n",
              "      <td>1.030667</td>\n",
              "      <td>1.162195</td>\n",
              "      <td>0.707827</td>\n",
              "      <td>-1.396612</td>\n",
              "      <td>0.014319</td>\n",
              "      <td>-1.025944</td>\n",
              "      <td>...</td>\n",
              "      <td>1.078495</td>\n",
              "      <td>-1.193343</td>\n",
              "      <td>0.086061</td>\n",
              "      <td>-0.081338</td>\n",
              "      <td>-0.978116</td>\n",
              "      <td>-0.368307</td>\n",
              "      <td>-0.129166</td>\n",
              "      <td>1.090452</td>\n",
              "      <td>-1.444440</td>\n",
              "      <td>0.468686</td>\n",
              "    </tr>\n",
              "    <tr>\n",
              "      <th>2249</th>\n",
              "      <td>2250</td>\n",
              "      <td>-1.319572</td>\n",
              "      <td>-0.485173</td>\n",
              "      <td>-0.098500</td>\n",
              "      <td>2.323293</td>\n",
              "      <td>-0.139202</td>\n",
              "      <td>-0.953250</td>\n",
              "      <td>0.084661</td>\n",
              "      <td>-0.566577</td>\n",
              "      <td>1.427840</td>\n",
              "      <td>...</td>\n",
              "      <td>-0.505524</td>\n",
              "      <td>-0.220607</td>\n",
              "      <td>-0.871845</td>\n",
              "      <td>0.654495</td>\n",
              "      <td>0.430631</td>\n",
              "      <td>-0.444470</td>\n",
              "      <td>-0.118851</td>\n",
              "      <td>0.471334</td>\n",
              "      <td>-0.078149</td>\n",
              "      <td>-0.566577</td>\n",
              "    </tr>\n",
              "  </tbody>\n",
              "</table>\n",
              "<p>2250 rows × 1201 columns</p>\n",
              "</div>\n",
              "      <button class=\"colab-df-convert\" onclick=\"convertToInteractive('df-46bc44aa-e513-4df9-906e-853e5c3f981f')\"\n",
              "              title=\"Convert this dataframe to an interactive table.\"\n",
              "              style=\"display:none;\">\n",
              "        \n",
              "  <svg xmlns=\"http://www.w3.org/2000/svg\" height=\"24px\"viewBox=\"0 0 24 24\"\n",
              "       width=\"24px\">\n",
              "    <path d=\"M0 0h24v24H0V0z\" fill=\"none\"/>\n",
              "    <path d=\"M18.56 5.44l.94 2.06.94-2.06 2.06-.94-2.06-.94-.94-2.06-.94 2.06-2.06.94zm-11 1L8.5 8.5l.94-2.06 2.06-.94-2.06-.94L8.5 2.5l-.94 2.06-2.06.94zm10 10l.94 2.06.94-2.06 2.06-.94-2.06-.94-.94-2.06-.94 2.06-2.06.94z\"/><path d=\"M17.41 7.96l-1.37-1.37c-.4-.4-.92-.59-1.43-.59-.52 0-1.04.2-1.43.59L10.3 9.45l-7.72 7.72c-.78.78-.78 2.05 0 2.83L4 21.41c.39.39.9.59 1.41.59.51 0 1.02-.2 1.41-.59l7.78-7.78 2.81-2.81c.8-.78.8-2.07 0-2.86zM5.41 20L4 18.59l7.72-7.72 1.47 1.35L5.41 20z\"/>\n",
              "  </svg>\n",
              "      </button>\n",
              "      \n",
              "  <style>\n",
              "    .colab-df-container {\n",
              "      display:flex;\n",
              "      flex-wrap:wrap;\n",
              "      gap: 12px;\n",
              "    }\n",
              "\n",
              "    .colab-df-convert {\n",
              "      background-color: #E8F0FE;\n",
              "      border: none;\n",
              "      border-radius: 50%;\n",
              "      cursor: pointer;\n",
              "      display: none;\n",
              "      fill: #1967D2;\n",
              "      height: 32px;\n",
              "      padding: 0 0 0 0;\n",
              "      width: 32px;\n",
              "    }\n",
              "\n",
              "    .colab-df-convert:hover {\n",
              "      background-color: #E2EBFA;\n",
              "      box-shadow: 0px 1px 2px rgba(60, 64, 67, 0.3), 0px 1px 3px 1px rgba(60, 64, 67, 0.15);\n",
              "      fill: #174EA6;\n",
              "    }\n",
              "\n",
              "    [theme=dark] .colab-df-convert {\n",
              "      background-color: #3B4455;\n",
              "      fill: #D2E3FC;\n",
              "    }\n",
              "\n",
              "    [theme=dark] .colab-df-convert:hover {\n",
              "      background-color: #434B5C;\n",
              "      box-shadow: 0px 1px 3px 1px rgba(0, 0, 0, 0.15);\n",
              "      filter: drop-shadow(0px 1px 2px rgba(0, 0, 0, 0.3));\n",
              "      fill: #FFFFFF;\n",
              "    }\n",
              "  </style>\n",
              "\n",
              "      <script>\n",
              "        const buttonEl =\n",
              "          document.querySelector('#df-46bc44aa-e513-4df9-906e-853e5c3f981f button.colab-df-convert');\n",
              "        buttonEl.style.display =\n",
              "          google.colab.kernel.accessAllowed ? 'block' : 'none';\n",
              "\n",
              "        async function convertToInteractive(key) {\n",
              "          const element = document.querySelector('#df-46bc44aa-e513-4df9-906e-853e5c3f981f');\n",
              "          const dataTable =\n",
              "            await google.colab.kernel.invokeFunction('convertToInteractive',\n",
              "                                                     [key], {});\n",
              "          if (!dataTable) return;\n",
              "\n",
              "          const docLinkHtml = 'Like what you see? Visit the ' +\n",
              "            '<a target=\"_blank\" href=https://colab.research.google.com/notebooks/data_table.ipynb>data table notebook</a>'\n",
              "            + ' to learn more about interactive tables.';\n",
              "          element.innerHTML = '';\n",
              "          dataTable['output_type'] = 'display_data';\n",
              "          await google.colab.output.renderOutput(dataTable, element);\n",
              "          const docLink = document.createElement('div');\n",
              "          docLink.innerHTML = docLinkHtml;\n",
              "          element.appendChild(docLink);\n",
              "        }\n",
              "      </script>\n",
              "    </div>\n",
              "  </div>\n",
              "  "
            ]
          },
          "metadata": {},
          "execution_count": 33
        }
      ]
    },
    {
      "cell_type": "code",
      "source": [
        "dftest.fillna(dftest.mean(), inplace=True)"
      ],
      "metadata": {
        "id": "E84C1Wki1bWk"
      },
      "execution_count": null,
      "outputs": []
    },
    {
      "cell_type": "code",
      "source": [
        "X_test = dftest.drop('id', axis=1)"
      ],
      "metadata": {
        "id": "rHFpgEWy1jEW"
      },
      "execution_count": null,
      "outputs": []
    },
    {
      "cell_type": "code",
      "source": [
        "dtest1 = xgb.DMatrix(X_test)"
      ],
      "metadata": {
        "id": "lLflgxQb2PNF"
      },
      "execution_count": null,
      "outputs": []
    },
    {
      "cell_type": "code",
      "source": [
        "test_predictions = model.predict(dtest1)\n",
        "test_predictionsb=[1 if p >= 0.5 else 0 for p in test_predictions ]"
      ],
      "metadata": {
        "id": "mauzbgQ11pg8"
      },
      "execution_count": null,
      "outputs": []
    },
    {
      "cell_type": "code",
      "source": [
        "solution2 = pd.DataFrame({'id': dftest['id'], 'labels': test_predictionsb})"
      ],
      "metadata": {
        "id": "-uytR9Jz1z20"
      },
      "execution_count": null,
      "outputs": []
    },
    {
      "cell_type": "code",
      "source": [
        "solution2.head()"
      ],
      "metadata": {
        "colab": {
          "base_uri": "https://localhost:8080/",
          "height": 206
        },
        "id": "IsyFm2Ij2e_6",
        "outputId": "8af5f48f-9cf4-46a5-dc11-6289b7ee89c9"
      },
      "execution_count": null,
      "outputs": [
        {
          "output_type": "execute_result",
          "data": {
            "text/plain": [
              "   id  labels\n",
              "0   1       0\n",
              "1   2       0\n",
              "2   3       0\n",
              "3   4       0\n",
              "4   5       0"
            ],
            "text/html": [
              "\n",
              "  <div id=\"df-6ccf4d0c-3d56-45da-b491-a292d20876e5\">\n",
              "    <div class=\"colab-df-container\">\n",
              "      <div>\n",
              "<style scoped>\n",
              "    .dataframe tbody tr th:only-of-type {\n",
              "        vertical-align: middle;\n",
              "    }\n",
              "\n",
              "    .dataframe tbody tr th {\n",
              "        vertical-align: top;\n",
              "    }\n",
              "\n",
              "    .dataframe thead th {\n",
              "        text-align: right;\n",
              "    }\n",
              "</style>\n",
              "<table border=\"1\" class=\"dataframe\">\n",
              "  <thead>\n",
              "    <tr style=\"text-align: right;\">\n",
              "      <th></th>\n",
              "      <th>id</th>\n",
              "      <th>labels</th>\n",
              "    </tr>\n",
              "  </thead>\n",
              "  <tbody>\n",
              "    <tr>\n",
              "      <th>0</th>\n",
              "      <td>1</td>\n",
              "      <td>0</td>\n",
              "    </tr>\n",
              "    <tr>\n",
              "      <th>1</th>\n",
              "      <td>2</td>\n",
              "      <td>0</td>\n",
              "    </tr>\n",
              "    <tr>\n",
              "      <th>2</th>\n",
              "      <td>3</td>\n",
              "      <td>0</td>\n",
              "    </tr>\n",
              "    <tr>\n",
              "      <th>3</th>\n",
              "      <td>4</td>\n",
              "      <td>0</td>\n",
              "    </tr>\n",
              "    <tr>\n",
              "      <th>4</th>\n",
              "      <td>5</td>\n",
              "      <td>0</td>\n",
              "    </tr>\n",
              "  </tbody>\n",
              "</table>\n",
              "</div>\n",
              "      <button class=\"colab-df-convert\" onclick=\"convertToInteractive('df-6ccf4d0c-3d56-45da-b491-a292d20876e5')\"\n",
              "              title=\"Convert this dataframe to an interactive table.\"\n",
              "              style=\"display:none;\">\n",
              "        \n",
              "  <svg xmlns=\"http://www.w3.org/2000/svg\" height=\"24px\"viewBox=\"0 0 24 24\"\n",
              "       width=\"24px\">\n",
              "    <path d=\"M0 0h24v24H0V0z\" fill=\"none\"/>\n",
              "    <path d=\"M18.56 5.44l.94 2.06.94-2.06 2.06-.94-2.06-.94-.94-2.06-.94 2.06-2.06.94zm-11 1L8.5 8.5l.94-2.06 2.06-.94-2.06-.94L8.5 2.5l-.94 2.06-2.06.94zm10 10l.94 2.06.94-2.06 2.06-.94-2.06-.94-.94-2.06-.94 2.06-2.06.94z\"/><path d=\"M17.41 7.96l-1.37-1.37c-.4-.4-.92-.59-1.43-.59-.52 0-1.04.2-1.43.59L10.3 9.45l-7.72 7.72c-.78.78-.78 2.05 0 2.83L4 21.41c.39.39.9.59 1.41.59.51 0 1.02-.2 1.41-.59l7.78-7.78 2.81-2.81c.8-.78.8-2.07 0-2.86zM5.41 20L4 18.59l7.72-7.72 1.47 1.35L5.41 20z\"/>\n",
              "  </svg>\n",
              "      </button>\n",
              "      \n",
              "  <style>\n",
              "    .colab-df-container {\n",
              "      display:flex;\n",
              "      flex-wrap:wrap;\n",
              "      gap: 12px;\n",
              "    }\n",
              "\n",
              "    .colab-df-convert {\n",
              "      background-color: #E8F0FE;\n",
              "      border: none;\n",
              "      border-radius: 50%;\n",
              "      cursor: pointer;\n",
              "      display: none;\n",
              "      fill: #1967D2;\n",
              "      height: 32px;\n",
              "      padding: 0 0 0 0;\n",
              "      width: 32px;\n",
              "    }\n",
              "\n",
              "    .colab-df-convert:hover {\n",
              "      background-color: #E2EBFA;\n",
              "      box-shadow: 0px 1px 2px rgba(60, 64, 67, 0.3), 0px 1px 3px 1px rgba(60, 64, 67, 0.15);\n",
              "      fill: #174EA6;\n",
              "    }\n",
              "\n",
              "    [theme=dark] .colab-df-convert {\n",
              "      background-color: #3B4455;\n",
              "      fill: #D2E3FC;\n",
              "    }\n",
              "\n",
              "    [theme=dark] .colab-df-convert:hover {\n",
              "      background-color: #434B5C;\n",
              "      box-shadow: 0px 1px 3px 1px rgba(0, 0, 0, 0.15);\n",
              "      filter: drop-shadow(0px 1px 2px rgba(0, 0, 0, 0.3));\n",
              "      fill: #FFFFFF;\n",
              "    }\n",
              "  </style>\n",
              "\n",
              "      <script>\n",
              "        const buttonEl =\n",
              "          document.querySelector('#df-6ccf4d0c-3d56-45da-b491-a292d20876e5 button.colab-df-convert');\n",
              "        buttonEl.style.display =\n",
              "          google.colab.kernel.accessAllowed ? 'block' : 'none';\n",
              "\n",
              "        async function convertToInteractive(key) {\n",
              "          const element = document.querySelector('#df-6ccf4d0c-3d56-45da-b491-a292d20876e5');\n",
              "          const dataTable =\n",
              "            await google.colab.kernel.invokeFunction('convertToInteractive',\n",
              "                                                     [key], {});\n",
              "          if (!dataTable) return;\n",
              "\n",
              "          const docLinkHtml = 'Like what you see? Visit the ' +\n",
              "            '<a target=\"_blank\" href=https://colab.research.google.com/notebooks/data_table.ipynb>data table notebook</a>'\n",
              "            + ' to learn more about interactive tables.';\n",
              "          element.innerHTML = '';\n",
              "          dataTable['output_type'] = 'display_data';\n",
              "          await google.colab.output.renderOutput(dataTable, element);\n",
              "          const docLink = document.createElement('div');\n",
              "          docLink.innerHTML = docLinkHtml;\n",
              "          element.appendChild(docLink);\n",
              "        }\n",
              "      </script>\n",
              "    </div>\n",
              "  </div>\n",
              "  "
            ]
          },
          "metadata": {},
          "execution_count": 25
        }
      ]
    },
    {
      "cell_type": "code",
      "source": [
        "solution2.to_csv('solution2.csv', index=False)"
      ],
      "metadata": {
        "id": "psDDaYNX27wK"
      },
      "execution_count": null,
      "outputs": []
    },
    {
      "cell_type": "code",
      "source": [
        "pip install lazypredict"
      ],
      "metadata": {
        "colab": {
          "base_uri": "https://localhost:8080/"
        },
        "id": "DWomhe3N5mqa",
        "outputId": "32821bf1-9389-4647-a912-48a766662a63"
      },
      "execution_count": null,
      "outputs": [
        {
          "output_type": "stream",
          "name": "stdout",
          "text": [
            "Collecting lazypredict\n",
            "  Downloading lazypredict-0.2.12-py2.py3-none-any.whl (12 kB)\n",
            "Requirement already satisfied: click in /usr/local/lib/python3.10/dist-packages (from lazypredict) (8.1.3)\n",
            "Requirement already satisfied: scikit-learn in /usr/local/lib/python3.10/dist-packages (from lazypredict) (1.2.2)\n",
            "Requirement already satisfied: pandas in /usr/local/lib/python3.10/dist-packages (from lazypredict) (1.5.3)\n",
            "Requirement already satisfied: tqdm in /usr/local/lib/python3.10/dist-packages (from lazypredict) (4.65.0)\n",
            "Requirement already satisfied: joblib in /usr/local/lib/python3.10/dist-packages (from lazypredict) (1.2.0)\n",
            "Requirement already satisfied: lightgbm in /usr/local/lib/python3.10/dist-packages (from lazypredict) (3.3.5)\n",
            "Requirement already satisfied: xgboost in /usr/local/lib/python3.10/dist-packages (from lazypredict) (1.7.6)\n",
            "Requirement already satisfied: wheel in /usr/local/lib/python3.10/dist-packages (from lightgbm->lazypredict) (0.40.0)\n",
            "Requirement already satisfied: numpy in /usr/local/lib/python3.10/dist-packages (from lightgbm->lazypredict) (1.22.4)\n",
            "Requirement already satisfied: scipy in /usr/local/lib/python3.10/dist-packages (from lightgbm->lazypredict) (1.10.1)\n",
            "Requirement already satisfied: threadpoolctl>=2.0.0 in /usr/local/lib/python3.10/dist-packages (from scikit-learn->lazypredict) (3.1.0)\n",
            "Requirement already satisfied: python-dateutil>=2.8.1 in /usr/local/lib/python3.10/dist-packages (from pandas->lazypredict) (2.8.2)\n",
            "Requirement already satisfied: pytz>=2020.1 in /usr/local/lib/python3.10/dist-packages (from pandas->lazypredict) (2022.7.1)\n",
            "Requirement already satisfied: six>=1.5 in /usr/local/lib/python3.10/dist-packages (from python-dateutil>=2.8.1->pandas->lazypredict) (1.16.0)\n",
            "Installing collected packages: lazypredict\n",
            "Successfully installed lazypredict-0.2.12\n"
          ]
        }
      ]
    },
    {
      "cell_type": "code",
      "source": [
        "from lazypredict.Supervised import LazyClassifier"
      ],
      "metadata": {
        "id": "qm8C7p4E4SPL"
      },
      "execution_count": null,
      "outputs": []
    },
    {
      "cell_type": "code",
      "source": [
        "clf = LazyClassifier(predictions=True)\n",
        "models, predictions = clf.fit(X_train, X_val, y_train, y_val)"
      ],
      "metadata": {
        "id": "gjIVvB0q8hUY",
        "colab": {
          "base_uri": "https://localhost:8080/"
        },
        "outputId": "29ae4bd0-281b-4979-c8b4-8d5973ef7673"
      },
      "execution_count": null,
      "outputs": [
        {
          "output_type": "stream",
          "name": "stderr",
          "text": [
            "100%|██████████| 29/29 [05:21<00:00, 11.10s/it]\n"
          ]
        }
      ]
    },
    {
      "cell_type": "code",
      "source": [
        "print(models)"
      ],
      "metadata": {
        "colab": {
          "base_uri": "https://localhost:8080/"
        },
        "id": "jSMaMoe844tx",
        "outputId": "465222d9-08f4-496d-e545-6638b5204c66"
      },
      "execution_count": null,
      "outputs": [
        {
          "output_type": "stream",
          "name": "stdout",
          "text": [
            "                               Accuracy  Balanced Accuracy  ROC AUC  F1 Score  \\\n",
            "Model                                                                           \n",
            "KNeighborsClassifier               0.87               0.79     0.79      0.86   \n",
            "AdaBoostClassifier                 0.83               0.77     0.77      0.83   \n",
            "XGBClassifier                      0.87               0.76     0.76      0.86   \n",
            "SGDClassifier                      0.81               0.76     0.76      0.81   \n",
            "LogisticRegression                 0.79               0.76     0.76      0.80   \n",
            "PassiveAggressiveClassifier        0.79               0.76     0.76      0.80   \n",
            "LGBMClassifier                     0.87               0.75     0.75      0.85   \n",
            "Perceptron                         0.79               0.75     0.75      0.79   \n",
            "LinearSVC                          0.78               0.75     0.75      0.78   \n",
            "SVC                                0.86               0.74     0.74      0.85   \n",
            "BaggingClassifier                  0.85               0.73     0.73      0.83   \n",
            "LinearDiscriminantAnalysis         0.78               0.73     0.73      0.78   \n",
            "ExtraTreesClassifier               0.86               0.73     0.73      0.84   \n",
            "GaussianNB                         0.62               0.73     0.73      0.64   \n",
            "RandomForestClassifier             0.86               0.72     0.72      0.84   \n",
            "RidgeClassifier                    0.78               0.72     0.72      0.78   \n",
            "RidgeClassifierCV                  0.78               0.72     0.72      0.78   \n",
            "CalibratedClassifierCV             0.84               0.71     0.71      0.82   \n",
            "DecisionTreeClassifier             0.77               0.70     0.70      0.77   \n",
            "NearestCentroid                    0.58               0.69     0.69      0.60   \n",
            "ExtraTreeClassifier                0.74               0.68     0.68      0.74   \n",
            "QuadraticDiscriminantAnalysis      0.83               0.67     0.67      0.79   \n",
            "NuSVC                              0.83               0.66     0.66      0.79   \n",
            "BernoulliNB                        0.55               0.66     0.66      0.57   \n",
            "LabelSpreading                     0.74               0.50     0.50      0.63   \n",
            "DummyClassifier                    0.74               0.50     0.50      0.63   \n",
            "LabelPropagation                   0.74               0.50     0.50      0.63   \n",
            "\n",
            "                               Time Taken  \n",
            "Model                                      \n",
            "KNeighborsClassifier                 0.71  \n",
            "AdaBoostClassifier                  43.12  \n",
            "XGBClassifier                       90.38  \n",
            "SGDClassifier                        1.92  \n",
            "LogisticRegression                   1.02  \n",
            "PassiveAggressiveClassifier          1.09  \n",
            "LGBMClassifier                      24.33  \n",
            "Perceptron                           0.85  \n",
            "LinearSVC                            5.53  \n",
            "SVC                                 11.01  \n",
            "BaggingClassifier                   54.27  \n",
            "LinearDiscriminantAnalysis           5.65  \n",
            "ExtraTreesClassifier                 2.44  \n",
            "GaussianNB                           0.33  \n",
            "RandomForestClassifier              13.72  \n",
            "RidgeClassifier                      0.66  \n",
            "RidgeClassifierCV                    3.31  \n",
            "CalibratedClassifierCV              23.81  \n",
            "DecisionTreeClassifier               8.15  \n",
            "NearestCentroid                      0.29  \n",
            "ExtraTreeClassifier                  0.25  \n",
            "QuadraticDiscriminantAnalysis        7.89  \n",
            "NuSVC                               15.80  \n",
            "BernoulliNB                          0.61  \n",
            "LabelSpreading                       2.20  \n",
            "DummyClassifier                      0.23  \n",
            "LabelPropagation                     2.00  \n"
          ]
        }
      ]
    },
    {
      "cell_type": "code",
      "source": [
        "from sklearn.neighbors import KNeighborsClassifier"
      ],
      "metadata": {
        "id": "XLzE0bpk7552"
      },
      "execution_count": null,
      "outputs": []
    },
    {
      "cell_type": "code",
      "source": [
        "from sklearn.ensemble import VotingClassifier"
      ],
      "metadata": {
        "id": "LY7_F_Eu88pu"
      },
      "execution_count": null,
      "outputs": []
    },
    {
      "cell_type": "code",
      "source": [
        "from xgboost import XGBClassifier"
      ],
      "metadata": {
        "id": "yloIQGin-wdd"
      },
      "execution_count": null,
      "outputs": []
    },
    {
      "cell_type": "code",
      "source": [
        "model1 = XGBClassifier()\n",
        "model2 = KNeighborsClassifier()"
      ],
      "metadata": {
        "id": "2OclzhMl8_cj"
      },
      "execution_count": null,
      "outputs": []
    },
    {
      "cell_type": "code",
      "source": [
        "model1.fit(X_train, y_train)\n",
        "model2.fit(X_train, y_train)"
      ],
      "metadata": {
        "colab": {
          "base_uri": "https://localhost:8080/",
          "height": 75
        },
        "id": "8SHh0G-o9Ofk",
        "outputId": "200a0714-e94b-44d8-a504-87e3744bac88"
      },
      "execution_count": null,
      "outputs": [
        {
          "output_type": "execute_result",
          "data": {
            "text/plain": [
              "KNeighborsClassifier()"
            ],
            "text/html": [
              "<style>#sk-container-id-2 {color: black;background-color: white;}#sk-container-id-2 pre{padding: 0;}#sk-container-id-2 div.sk-toggleable {background-color: white;}#sk-container-id-2 label.sk-toggleable__label {cursor: pointer;display: block;width: 100%;margin-bottom: 0;padding: 0.3em;box-sizing: border-box;text-align: center;}#sk-container-id-2 label.sk-toggleable__label-arrow:before {content: \"▸\";float: left;margin-right: 0.25em;color: #696969;}#sk-container-id-2 label.sk-toggleable__label-arrow:hover:before {color: black;}#sk-container-id-2 div.sk-estimator:hover label.sk-toggleable__label-arrow:before {color: black;}#sk-container-id-2 div.sk-toggleable__content {max-height: 0;max-width: 0;overflow: hidden;text-align: left;background-color: #f0f8ff;}#sk-container-id-2 div.sk-toggleable__content pre {margin: 0.2em;color: black;border-radius: 0.25em;background-color: #f0f8ff;}#sk-container-id-2 input.sk-toggleable__control:checked~div.sk-toggleable__content {max-height: 200px;max-width: 100%;overflow: auto;}#sk-container-id-2 input.sk-toggleable__control:checked~label.sk-toggleable__label-arrow:before {content: \"▾\";}#sk-container-id-2 div.sk-estimator input.sk-toggleable__control:checked~label.sk-toggleable__label {background-color: #d4ebff;}#sk-container-id-2 div.sk-label input.sk-toggleable__control:checked~label.sk-toggleable__label {background-color: #d4ebff;}#sk-container-id-2 input.sk-hidden--visually {border: 0;clip: rect(1px 1px 1px 1px);clip: rect(1px, 1px, 1px, 1px);height: 1px;margin: -1px;overflow: hidden;padding: 0;position: absolute;width: 1px;}#sk-container-id-2 div.sk-estimator {font-family: monospace;background-color: #f0f8ff;border: 1px dotted black;border-radius: 0.25em;box-sizing: border-box;margin-bottom: 0.5em;}#sk-container-id-2 div.sk-estimator:hover {background-color: #d4ebff;}#sk-container-id-2 div.sk-parallel-item::after {content: \"\";width: 100%;border-bottom: 1px solid gray;flex-grow: 1;}#sk-container-id-2 div.sk-label:hover label.sk-toggleable__label {background-color: #d4ebff;}#sk-container-id-2 div.sk-serial::before {content: \"\";position: absolute;border-left: 1px solid gray;box-sizing: border-box;top: 0;bottom: 0;left: 50%;z-index: 0;}#sk-container-id-2 div.sk-serial {display: flex;flex-direction: column;align-items: center;background-color: white;padding-right: 0.2em;padding-left: 0.2em;position: relative;}#sk-container-id-2 div.sk-item {position: relative;z-index: 1;}#sk-container-id-2 div.sk-parallel {display: flex;align-items: stretch;justify-content: center;background-color: white;position: relative;}#sk-container-id-2 div.sk-item::before, #sk-container-id-2 div.sk-parallel-item::before {content: \"\";position: absolute;border-left: 1px solid gray;box-sizing: border-box;top: 0;bottom: 0;left: 50%;z-index: -1;}#sk-container-id-2 div.sk-parallel-item {display: flex;flex-direction: column;z-index: 1;position: relative;background-color: white;}#sk-container-id-2 div.sk-parallel-item:first-child::after {align-self: flex-end;width: 50%;}#sk-container-id-2 div.sk-parallel-item:last-child::after {align-self: flex-start;width: 50%;}#sk-container-id-2 div.sk-parallel-item:only-child::after {width: 0;}#sk-container-id-2 div.sk-dashed-wrapped {border: 1px dashed gray;margin: 0 0.4em 0.5em 0.4em;box-sizing: border-box;padding-bottom: 0.4em;background-color: white;}#sk-container-id-2 div.sk-label label {font-family: monospace;font-weight: bold;display: inline-block;line-height: 1.2em;}#sk-container-id-2 div.sk-label-container {text-align: center;}#sk-container-id-2 div.sk-container {/* jupyter's `normalize.less` sets `[hidden] { display: none; }` but bootstrap.min.css set `[hidden] { display: none !important; }` so we also need the `!important` here to be able to override the default hidden behavior on the sphinx rendered scikit-learn.org. See: https://github.com/scikit-learn/scikit-learn/issues/21755 */display: inline-block !important;position: relative;}#sk-container-id-2 div.sk-text-repr-fallback {display: none;}</style><div id=\"sk-container-id-2\" class=\"sk-top-container\"><div class=\"sk-text-repr-fallback\"><pre>KNeighborsClassifier()</pre><b>In a Jupyter environment, please rerun this cell to show the HTML representation or trust the notebook. <br />On GitHub, the HTML representation is unable to render, please try loading this page with nbviewer.org.</b></div><div class=\"sk-container\" hidden><div class=\"sk-item\"><div class=\"sk-estimator sk-toggleable\"><input class=\"sk-toggleable__control sk-hidden--visually\" id=\"sk-estimator-id-2\" type=\"checkbox\" checked><label for=\"sk-estimator-id-2\" class=\"sk-toggleable__label sk-toggleable__label-arrow\">KNeighborsClassifier</label><div class=\"sk-toggleable__content\"><pre>KNeighborsClassifier()</pre></div></div></div></div></div>"
            ]
          },
          "metadata": {},
          "execution_count": 50
        }
      ]
    },
    {
      "cell_type": "code",
      "source": [
        "ensemble_model = VotingClassifier(estimators=[('xgb', model1), ('knn', model2)], voting='hard')"
      ],
      "metadata": {
        "id": "ZWyty4Jt_ddM"
      },
      "execution_count": null,
      "outputs": []
    },
    {
      "cell_type": "code",
      "source": [
        "ensemble_model.fit(X_train, y_train)"
      ],
      "metadata": {
        "colab": {
          "base_uri": "https://localhost:8080/",
          "height": 110
        },
        "id": "vBZtOtLd_OVD",
        "outputId": "d2ab265d-1c1a-4da9-a77a-708152ba1e67"
      },
      "execution_count": null,
      "outputs": [
        {
          "output_type": "execute_result",
          "data": {
            "text/plain": [
              "VotingClassifier(estimators=[('xgb',\n",
              "                              XGBClassifier(base_score=None, booster=None,\n",
              "                                            callbacks=None,\n",
              "                                            colsample_bylevel=None,\n",
              "                                            colsample_bynode=None,\n",
              "                                            colsample_bytree=None,\n",
              "                                            early_stopping_rounds=None,\n",
              "                                            enable_categorical=False,\n",
              "                                            eval_metric=None,\n",
              "                                            feature_types=None, gamma=None,\n",
              "                                            gpu_id=None, grow_policy=None,\n",
              "                                            importance_type=None,\n",
              "                                            interaction_constraints=None,\n",
              "                                            learning_rate=None, max_bin=None,\n",
              "                                            max_cat_threshold=None,\n",
              "                                            max_cat_to_onehot=None,\n",
              "                                            max_delta_step=None, max_depth=None,\n",
              "                                            max_leaves=None,\n",
              "                                            min_child_weight=None, missing=nan,\n",
              "                                            monotone_constraints=None,\n",
              "                                            n_estimators=100, n_jobs=None,\n",
              "                                            num_parallel_tree=None,\n",
              "                                            predictor=None, random_state=None, ...)),\n",
              "                             ('knn', KNeighborsClassifier())])"
            ],
            "text/html": [
              "<style>#sk-container-id-4 {color: black;background-color: white;}#sk-container-id-4 pre{padding: 0;}#sk-container-id-4 div.sk-toggleable {background-color: white;}#sk-container-id-4 label.sk-toggleable__label {cursor: pointer;display: block;width: 100%;margin-bottom: 0;padding: 0.3em;box-sizing: border-box;text-align: center;}#sk-container-id-4 label.sk-toggleable__label-arrow:before {content: \"▸\";float: left;margin-right: 0.25em;color: #696969;}#sk-container-id-4 label.sk-toggleable__label-arrow:hover:before {color: black;}#sk-container-id-4 div.sk-estimator:hover label.sk-toggleable__label-arrow:before {color: black;}#sk-container-id-4 div.sk-toggleable__content {max-height: 0;max-width: 0;overflow: hidden;text-align: left;background-color: #f0f8ff;}#sk-container-id-4 div.sk-toggleable__content pre {margin: 0.2em;color: black;border-radius: 0.25em;background-color: #f0f8ff;}#sk-container-id-4 input.sk-toggleable__control:checked~div.sk-toggleable__content {max-height: 200px;max-width: 100%;overflow: auto;}#sk-container-id-4 input.sk-toggleable__control:checked~label.sk-toggleable__label-arrow:before {content: \"▾\";}#sk-container-id-4 div.sk-estimator input.sk-toggleable__control:checked~label.sk-toggleable__label {background-color: #d4ebff;}#sk-container-id-4 div.sk-label input.sk-toggleable__control:checked~label.sk-toggleable__label {background-color: #d4ebff;}#sk-container-id-4 input.sk-hidden--visually {border: 0;clip: rect(1px 1px 1px 1px);clip: rect(1px, 1px, 1px, 1px);height: 1px;margin: -1px;overflow: hidden;padding: 0;position: absolute;width: 1px;}#sk-container-id-4 div.sk-estimator {font-family: monospace;background-color: #f0f8ff;border: 1px dotted black;border-radius: 0.25em;box-sizing: border-box;margin-bottom: 0.5em;}#sk-container-id-4 div.sk-estimator:hover {background-color: #d4ebff;}#sk-container-id-4 div.sk-parallel-item::after {content: \"\";width: 100%;border-bottom: 1px solid gray;flex-grow: 1;}#sk-container-id-4 div.sk-label:hover label.sk-toggleable__label {background-color: #d4ebff;}#sk-container-id-4 div.sk-serial::before {content: \"\";position: absolute;border-left: 1px solid gray;box-sizing: border-box;top: 0;bottom: 0;left: 50%;z-index: 0;}#sk-container-id-4 div.sk-serial {display: flex;flex-direction: column;align-items: center;background-color: white;padding-right: 0.2em;padding-left: 0.2em;position: relative;}#sk-container-id-4 div.sk-item {position: relative;z-index: 1;}#sk-container-id-4 div.sk-parallel {display: flex;align-items: stretch;justify-content: center;background-color: white;position: relative;}#sk-container-id-4 div.sk-item::before, #sk-container-id-4 div.sk-parallel-item::before {content: \"\";position: absolute;border-left: 1px solid gray;box-sizing: border-box;top: 0;bottom: 0;left: 50%;z-index: -1;}#sk-container-id-4 div.sk-parallel-item {display: flex;flex-direction: column;z-index: 1;position: relative;background-color: white;}#sk-container-id-4 div.sk-parallel-item:first-child::after {align-self: flex-end;width: 50%;}#sk-container-id-4 div.sk-parallel-item:last-child::after {align-self: flex-start;width: 50%;}#sk-container-id-4 div.sk-parallel-item:only-child::after {width: 0;}#sk-container-id-4 div.sk-dashed-wrapped {border: 1px dashed gray;margin: 0 0.4em 0.5em 0.4em;box-sizing: border-box;padding-bottom: 0.4em;background-color: white;}#sk-container-id-4 div.sk-label label {font-family: monospace;font-weight: bold;display: inline-block;line-height: 1.2em;}#sk-container-id-4 div.sk-label-container {text-align: center;}#sk-container-id-4 div.sk-container {/* jupyter's `normalize.less` sets `[hidden] { display: none; }` but bootstrap.min.css set `[hidden] { display: none !important; }` so we also need the `!important` here to be able to override the default hidden behavior on the sphinx rendered scikit-learn.org. See: https://github.com/scikit-learn/scikit-learn/issues/21755 */display: inline-block !important;position: relative;}#sk-container-id-4 div.sk-text-repr-fallback {display: none;}</style><div id=\"sk-container-id-4\" class=\"sk-top-container\"><div class=\"sk-text-repr-fallback\"><pre>VotingClassifier(estimators=[(&#x27;xgb&#x27;,\n",
              "                              XGBClassifier(base_score=None, booster=None,\n",
              "                                            callbacks=None,\n",
              "                                            colsample_bylevel=None,\n",
              "                                            colsample_bynode=None,\n",
              "                                            colsample_bytree=None,\n",
              "                                            early_stopping_rounds=None,\n",
              "                                            enable_categorical=False,\n",
              "                                            eval_metric=None,\n",
              "                                            feature_types=None, gamma=None,\n",
              "                                            gpu_id=None, grow_policy=None,\n",
              "                                            importance_type=None,\n",
              "                                            interaction_constraints=None,\n",
              "                                            learning_rate=None, max_bin=None,\n",
              "                                            max_cat_threshold=None,\n",
              "                                            max_cat_to_onehot=None,\n",
              "                                            max_delta_step=None, max_depth=None,\n",
              "                                            max_leaves=None,\n",
              "                                            min_child_weight=None, missing=nan,\n",
              "                                            monotone_constraints=None,\n",
              "                                            n_estimators=100, n_jobs=None,\n",
              "                                            num_parallel_tree=None,\n",
              "                                            predictor=None, random_state=None, ...)),\n",
              "                             (&#x27;knn&#x27;, KNeighborsClassifier())])</pre><b>In a Jupyter environment, please rerun this cell to show the HTML representation or trust the notebook. <br />On GitHub, the HTML representation is unable to render, please try loading this page with nbviewer.org.</b></div><div class=\"sk-container\" hidden><div class=\"sk-item sk-dashed-wrapped\"><div class=\"sk-label-container\"><div class=\"sk-label sk-toggleable\"><input class=\"sk-toggleable__control sk-hidden--visually\" id=\"sk-estimator-id-4\" type=\"checkbox\" ><label for=\"sk-estimator-id-4\" class=\"sk-toggleable__label sk-toggleable__label-arrow\">VotingClassifier</label><div class=\"sk-toggleable__content\"><pre>VotingClassifier(estimators=[(&#x27;xgb&#x27;,\n",
              "                              XGBClassifier(base_score=None, booster=None,\n",
              "                                            callbacks=None,\n",
              "                                            colsample_bylevel=None,\n",
              "                                            colsample_bynode=None,\n",
              "                                            colsample_bytree=None,\n",
              "                                            early_stopping_rounds=None,\n",
              "                                            enable_categorical=False,\n",
              "                                            eval_metric=None,\n",
              "                                            feature_types=None, gamma=None,\n",
              "                                            gpu_id=None, grow_policy=None,\n",
              "                                            importance_type=None,\n",
              "                                            interaction_constraints=None,\n",
              "                                            learning_rate=None, max_bin=None,\n",
              "                                            max_cat_threshold=None,\n",
              "                                            max_cat_to_onehot=None,\n",
              "                                            max_delta_step=None, max_depth=None,\n",
              "                                            max_leaves=None,\n",
              "                                            min_child_weight=None, missing=nan,\n",
              "                                            monotone_constraints=None,\n",
              "                                            n_estimators=100, n_jobs=None,\n",
              "                                            num_parallel_tree=None,\n",
              "                                            predictor=None, random_state=None, ...)),\n",
              "                             (&#x27;knn&#x27;, KNeighborsClassifier())])</pre></div></div></div><div class=\"sk-parallel\"><div class=\"sk-parallel-item\"><div class=\"sk-item\"><div class=\"sk-label-container\"><div class=\"sk-label sk-toggleable\"><label>xgb</label></div></div><div class=\"sk-serial\"><div class=\"sk-item\"><div class=\"sk-estimator sk-toggleable\"><input class=\"sk-toggleable__control sk-hidden--visually\" id=\"sk-estimator-id-5\" type=\"checkbox\" ><label for=\"sk-estimator-id-5\" class=\"sk-toggleable__label sk-toggleable__label-arrow\">XGBClassifier</label><div class=\"sk-toggleable__content\"><pre>XGBClassifier(base_score=None, booster=None, callbacks=None,\n",
              "              colsample_bylevel=None, colsample_bynode=None,\n",
              "              colsample_bytree=None, early_stopping_rounds=None,\n",
              "              enable_categorical=False, eval_metric=None, feature_types=None,\n",
              "              gamma=None, gpu_id=None, grow_policy=None, importance_type=None,\n",
              "              interaction_constraints=None, learning_rate=None, max_bin=None,\n",
              "              max_cat_threshold=None, max_cat_to_onehot=None,\n",
              "              max_delta_step=None, max_depth=None, max_leaves=None,\n",
              "              min_child_weight=None, missing=nan, monotone_constraints=None,\n",
              "              n_estimators=100, n_jobs=None, num_parallel_tree=None,\n",
              "              predictor=None, random_state=None, ...)</pre></div></div></div></div></div></div><div class=\"sk-parallel-item\"><div class=\"sk-item\"><div class=\"sk-label-container\"><div class=\"sk-label sk-toggleable\"><label>knn</label></div></div><div class=\"sk-serial\"><div class=\"sk-item\"><div class=\"sk-estimator sk-toggleable\"><input class=\"sk-toggleable__control sk-hidden--visually\" id=\"sk-estimator-id-6\" type=\"checkbox\" ><label for=\"sk-estimator-id-6\" class=\"sk-toggleable__label sk-toggleable__label-arrow\">KNeighborsClassifier</label><div class=\"sk-toggleable__content\"><pre>KNeighborsClassifier()</pre></div></div></div></div></div></div></div></div></div></div>"
            ]
          },
          "metadata": {},
          "execution_count": 54
        }
      ]
    },
    {
      "cell_type": "code",
      "source": [
        "predictions = ensemble_model.predict(X_val)"
      ],
      "metadata": {
        "id": "OG1z5DqMAOXT"
      },
      "execution_count": null,
      "outputs": []
    },
    {
      "cell_type": "code",
      "source": [
        "accuracy = accuracy_score(y_val, predictions)\n",
        "print(\"Ensemble model accuracy on validation data:\", accuracy)"
      ],
      "metadata": {
        "colab": {
          "base_uri": "https://localhost:8080/"
        },
        "id": "5VvskbEdASJh",
        "outputId": "deef4d20-5bb3-4f05-ade7-ceda1fda9207"
      },
      "execution_count": null,
      "outputs": [
        {
          "output_type": "stream",
          "name": "stdout",
          "text": [
            "Ensemble model accuracy on validation data: 0.8666666666666667\n"
          ]
        }
      ]
    },
    {
      "cell_type": "code",
      "source": [
        "predectionensemble = ensemble_model.predict(X_test)"
      ],
      "metadata": {
        "id": "4r1w7bniAXZD"
      },
      "execution_count": null,
      "outputs": []
    },
    {
      "cell_type": "code",
      "source": [],
      "metadata": {
        "id": "seGSD3X7AmOt"
      },
      "execution_count": null,
      "outputs": []
    },
    {
      "cell_type": "code",
      "source": [
        "solution3 = pd.DataFrame({'id': dftest['id'], 'labels': predectionensemble})"
      ],
      "metadata": {
        "id": "bCE9n-7MA7FQ"
      },
      "execution_count": null,
      "outputs": []
    },
    {
      "cell_type": "code",
      "source": [
        "solution2.head()"
      ],
      "metadata": {
        "colab": {
          "base_uri": "https://localhost:8080/",
          "height": 206
        },
        "outputId": "d7e9437b-3460-4d62-a2de-cc0dfc27c3ea",
        "id": "rmWyaL--A7FR"
      },
      "execution_count": null,
      "outputs": [
        {
          "output_type": "execute_result",
          "data": {
            "text/plain": [
              "   id  labels\n",
              "0   1       0\n",
              "1   2       0\n",
              "2   3       0\n",
              "3   4       0\n",
              "4   5       0"
            ],
            "text/html": [
              "\n",
              "  <div id=\"df-ab15813a-7ded-47c2-a580-fd0350875ba9\">\n",
              "    <div class=\"colab-df-container\">\n",
              "      <div>\n",
              "<style scoped>\n",
              "    .dataframe tbody tr th:only-of-type {\n",
              "        vertical-align: middle;\n",
              "    }\n",
              "\n",
              "    .dataframe tbody tr th {\n",
              "        vertical-align: top;\n",
              "    }\n",
              "\n",
              "    .dataframe thead th {\n",
              "        text-align: right;\n",
              "    }\n",
              "</style>\n",
              "<table border=\"1\" class=\"dataframe\">\n",
              "  <thead>\n",
              "    <tr style=\"text-align: right;\">\n",
              "      <th></th>\n",
              "      <th>id</th>\n",
              "      <th>labels</th>\n",
              "    </tr>\n",
              "  </thead>\n",
              "  <tbody>\n",
              "    <tr>\n",
              "      <th>0</th>\n",
              "      <td>1</td>\n",
              "      <td>0</td>\n",
              "    </tr>\n",
              "    <tr>\n",
              "      <th>1</th>\n",
              "      <td>2</td>\n",
              "      <td>0</td>\n",
              "    </tr>\n",
              "    <tr>\n",
              "      <th>2</th>\n",
              "      <td>3</td>\n",
              "      <td>0</td>\n",
              "    </tr>\n",
              "    <tr>\n",
              "      <th>3</th>\n",
              "      <td>4</td>\n",
              "      <td>0</td>\n",
              "    </tr>\n",
              "    <tr>\n",
              "      <th>4</th>\n",
              "      <td>5</td>\n",
              "      <td>0</td>\n",
              "    </tr>\n",
              "  </tbody>\n",
              "</table>\n",
              "</div>\n",
              "      <button class=\"colab-df-convert\" onclick=\"convertToInteractive('df-ab15813a-7ded-47c2-a580-fd0350875ba9')\"\n",
              "              title=\"Convert this dataframe to an interactive table.\"\n",
              "              style=\"display:none;\">\n",
              "        \n",
              "  <svg xmlns=\"http://www.w3.org/2000/svg\" height=\"24px\"viewBox=\"0 0 24 24\"\n",
              "       width=\"24px\">\n",
              "    <path d=\"M0 0h24v24H0V0z\" fill=\"none\"/>\n",
              "    <path d=\"M18.56 5.44l.94 2.06.94-2.06 2.06-.94-2.06-.94-.94-2.06-.94 2.06-2.06.94zm-11 1L8.5 8.5l.94-2.06 2.06-.94-2.06-.94L8.5 2.5l-.94 2.06-2.06.94zm10 10l.94 2.06.94-2.06 2.06-.94-2.06-.94-.94-2.06-.94 2.06-2.06.94z\"/><path d=\"M17.41 7.96l-1.37-1.37c-.4-.4-.92-.59-1.43-.59-.52 0-1.04.2-1.43.59L10.3 9.45l-7.72 7.72c-.78.78-.78 2.05 0 2.83L4 21.41c.39.39.9.59 1.41.59.51 0 1.02-.2 1.41-.59l7.78-7.78 2.81-2.81c.8-.78.8-2.07 0-2.86zM5.41 20L4 18.59l7.72-7.72 1.47 1.35L5.41 20z\"/>\n",
              "  </svg>\n",
              "      </button>\n",
              "      \n",
              "  <style>\n",
              "    .colab-df-container {\n",
              "      display:flex;\n",
              "      flex-wrap:wrap;\n",
              "      gap: 12px;\n",
              "    }\n",
              "\n",
              "    .colab-df-convert {\n",
              "      background-color: #E8F0FE;\n",
              "      border: none;\n",
              "      border-radius: 50%;\n",
              "      cursor: pointer;\n",
              "      display: none;\n",
              "      fill: #1967D2;\n",
              "      height: 32px;\n",
              "      padding: 0 0 0 0;\n",
              "      width: 32px;\n",
              "    }\n",
              "\n",
              "    .colab-df-convert:hover {\n",
              "      background-color: #E2EBFA;\n",
              "      box-shadow: 0px 1px 2px rgba(60, 64, 67, 0.3), 0px 1px 3px 1px rgba(60, 64, 67, 0.15);\n",
              "      fill: #174EA6;\n",
              "    }\n",
              "\n",
              "    [theme=dark] .colab-df-convert {\n",
              "      background-color: #3B4455;\n",
              "      fill: #D2E3FC;\n",
              "    }\n",
              "\n",
              "    [theme=dark] .colab-df-convert:hover {\n",
              "      background-color: #434B5C;\n",
              "      box-shadow: 0px 1px 3px 1px rgba(0, 0, 0, 0.15);\n",
              "      filter: drop-shadow(0px 1px 2px rgba(0, 0, 0, 0.3));\n",
              "      fill: #FFFFFF;\n",
              "    }\n",
              "  </style>\n",
              "\n",
              "      <script>\n",
              "        const buttonEl =\n",
              "          document.querySelector('#df-ab15813a-7ded-47c2-a580-fd0350875ba9 button.colab-df-convert');\n",
              "        buttonEl.style.display =\n",
              "          google.colab.kernel.accessAllowed ? 'block' : 'none';\n",
              "\n",
              "        async function convertToInteractive(key) {\n",
              "          const element = document.querySelector('#df-ab15813a-7ded-47c2-a580-fd0350875ba9');\n",
              "          const dataTable =\n",
              "            await google.colab.kernel.invokeFunction('convertToInteractive',\n",
              "                                                     [key], {});\n",
              "          if (!dataTable) return;\n",
              "\n",
              "          const docLinkHtml = 'Like what you see? Visit the ' +\n",
              "            '<a target=\"_blank\" href=https://colab.research.google.com/notebooks/data_table.ipynb>data table notebook</a>'\n",
              "            + ' to learn more about interactive tables.';\n",
              "          element.innerHTML = '';\n",
              "          dataTable['output_type'] = 'display_data';\n",
              "          await google.colab.output.renderOutput(dataTable, element);\n",
              "          const docLink = document.createElement('div');\n",
              "          docLink.innerHTML = docLinkHtml;\n",
              "          element.appendChild(docLink);\n",
              "        }\n",
              "      </script>\n",
              "    </div>\n",
              "  </div>\n",
              "  "
            ]
          },
          "metadata": {},
          "execution_count": 61
        }
      ]
    },
    {
      "cell_type": "code",
      "source": [
        "solution3.to_csv('solution3.csv', index=False)"
      ],
      "metadata": {
        "id": "Xt-rdKiqA7FS"
      },
      "execution_count": null,
      "outputs": []
    },
    {
      "cell_type": "code",
      "source": [
        "from sklearn.model_selection import GridSearchCV"
      ],
      "metadata": {
        "id": "NEu6k8dYCSBE"
      },
      "execution_count": null,
      "outputs": []
    },
    {
      "cell_type": "code",
      "source": [
        "grid_search = GridSearchCV(estimator=model, param_grid=params, scoring='accuracy', cv=5)\n"
      ],
      "metadata": {
        "id": "aKSqAsDEBl7j"
      },
      "execution_count": null,
      "outputs": []
    },
    {
      "cell_type": "code",
      "source": [
        "from sklearn.svm import SVC"
      ],
      "metadata": {
        "id": "5MP5Dz9PClbD"
      },
      "execution_count": null,
      "outputs": []
    },
    {
      "cell_type": "code",
      "source": [
        "svm_model = SVC()"
      ],
      "metadata": {
        "id": "fE2rtvWaNJYd"
      },
      "execution_count": null,
      "outputs": []
    },
    {
      "cell_type": "code",
      "source": [
        "svm_model.fit(X_train, y_train)"
      ],
      "metadata": {
        "colab": {
          "base_uri": "https://localhost:8080/",
          "height": 75
        },
        "id": "frxZdlpVNNXV",
        "outputId": "8598d321-5818-4fcd-e08f-5b6116c1204f"
      },
      "execution_count": null,
      "outputs": [
        {
          "output_type": "execute_result",
          "data": {
            "text/plain": [
              "SVC()"
            ],
            "text/html": [
              "<style>#sk-container-id-5 {color: black;background-color: white;}#sk-container-id-5 pre{padding: 0;}#sk-container-id-5 div.sk-toggleable {background-color: white;}#sk-container-id-5 label.sk-toggleable__label {cursor: pointer;display: block;width: 100%;margin-bottom: 0;padding: 0.3em;box-sizing: border-box;text-align: center;}#sk-container-id-5 label.sk-toggleable__label-arrow:before {content: \"▸\";float: left;margin-right: 0.25em;color: #696969;}#sk-container-id-5 label.sk-toggleable__label-arrow:hover:before {color: black;}#sk-container-id-5 div.sk-estimator:hover label.sk-toggleable__label-arrow:before {color: black;}#sk-container-id-5 div.sk-toggleable__content {max-height: 0;max-width: 0;overflow: hidden;text-align: left;background-color: #f0f8ff;}#sk-container-id-5 div.sk-toggleable__content pre {margin: 0.2em;color: black;border-radius: 0.25em;background-color: #f0f8ff;}#sk-container-id-5 input.sk-toggleable__control:checked~div.sk-toggleable__content {max-height: 200px;max-width: 100%;overflow: auto;}#sk-container-id-5 input.sk-toggleable__control:checked~label.sk-toggleable__label-arrow:before {content: \"▾\";}#sk-container-id-5 div.sk-estimator input.sk-toggleable__control:checked~label.sk-toggleable__label {background-color: #d4ebff;}#sk-container-id-5 div.sk-label input.sk-toggleable__control:checked~label.sk-toggleable__label {background-color: #d4ebff;}#sk-container-id-5 input.sk-hidden--visually {border: 0;clip: rect(1px 1px 1px 1px);clip: rect(1px, 1px, 1px, 1px);height: 1px;margin: -1px;overflow: hidden;padding: 0;position: absolute;width: 1px;}#sk-container-id-5 div.sk-estimator {font-family: monospace;background-color: #f0f8ff;border: 1px dotted black;border-radius: 0.25em;box-sizing: border-box;margin-bottom: 0.5em;}#sk-container-id-5 div.sk-estimator:hover {background-color: #d4ebff;}#sk-container-id-5 div.sk-parallel-item::after {content: \"\";width: 100%;border-bottom: 1px solid gray;flex-grow: 1;}#sk-container-id-5 div.sk-label:hover label.sk-toggleable__label {background-color: #d4ebff;}#sk-container-id-5 div.sk-serial::before {content: \"\";position: absolute;border-left: 1px solid gray;box-sizing: border-box;top: 0;bottom: 0;left: 50%;z-index: 0;}#sk-container-id-5 div.sk-serial {display: flex;flex-direction: column;align-items: center;background-color: white;padding-right: 0.2em;padding-left: 0.2em;position: relative;}#sk-container-id-5 div.sk-item {position: relative;z-index: 1;}#sk-container-id-5 div.sk-parallel {display: flex;align-items: stretch;justify-content: center;background-color: white;position: relative;}#sk-container-id-5 div.sk-item::before, #sk-container-id-5 div.sk-parallel-item::before {content: \"\";position: absolute;border-left: 1px solid gray;box-sizing: border-box;top: 0;bottom: 0;left: 50%;z-index: -1;}#sk-container-id-5 div.sk-parallel-item {display: flex;flex-direction: column;z-index: 1;position: relative;background-color: white;}#sk-container-id-5 div.sk-parallel-item:first-child::after {align-self: flex-end;width: 50%;}#sk-container-id-5 div.sk-parallel-item:last-child::after {align-self: flex-start;width: 50%;}#sk-container-id-5 div.sk-parallel-item:only-child::after {width: 0;}#sk-container-id-5 div.sk-dashed-wrapped {border: 1px dashed gray;margin: 0 0.4em 0.5em 0.4em;box-sizing: border-box;padding-bottom: 0.4em;background-color: white;}#sk-container-id-5 div.sk-label label {font-family: monospace;font-weight: bold;display: inline-block;line-height: 1.2em;}#sk-container-id-5 div.sk-label-container {text-align: center;}#sk-container-id-5 div.sk-container {/* jupyter's `normalize.less` sets `[hidden] { display: none; }` but bootstrap.min.css set `[hidden] { display: none !important; }` so we also need the `!important` here to be able to override the default hidden behavior on the sphinx rendered scikit-learn.org. See: https://github.com/scikit-learn/scikit-learn/issues/21755 */display: inline-block !important;position: relative;}#sk-container-id-5 div.sk-text-repr-fallback {display: none;}</style><div id=\"sk-container-id-5\" class=\"sk-top-container\"><div class=\"sk-text-repr-fallback\"><pre>SVC()</pre><b>In a Jupyter environment, please rerun this cell to show the HTML representation or trust the notebook. <br />On GitHub, the HTML representation is unable to render, please try loading this page with nbviewer.org.</b></div><div class=\"sk-container\" hidden><div class=\"sk-item\"><div class=\"sk-estimator sk-toggleable\"><input class=\"sk-toggleable__control sk-hidden--visually\" id=\"sk-estimator-id-7\" type=\"checkbox\" checked><label for=\"sk-estimator-id-7\" class=\"sk-toggleable__label sk-toggleable__label-arrow\">SVC</label><div class=\"sk-toggleable__content\"><pre>SVC()</pre></div></div></div></div></div>"
            ]
          },
          "metadata": {},
          "execution_count": 72
        }
      ]
    },
    {
      "cell_type": "code",
      "source": [
        "y_pred = svm_model.predict(X_val)"
      ],
      "metadata": {
        "id": "m7WGST_1NP8v"
      },
      "execution_count": null,
      "outputs": []
    },
    {
      "cell_type": "code",
      "source": [
        "accuracy = accuracy_score(y_val, y_pred)\n",
        "print(\"Accuracy:\", accuracy)"
      ],
      "metadata": {
        "colab": {
          "base_uri": "https://localhost:8080/"
        },
        "id": "mzzoT3-WNSoQ",
        "outputId": "6c1a93f6-dfe0-4eab-eac0-7cc4019afe86"
      },
      "execution_count": null,
      "outputs": [
        {
          "output_type": "stream",
          "name": "stdout",
          "text": [
            "Accuracy: 0.8647619047619047\n"
          ]
        }
      ]
    },
    {
      "cell_type": "code",
      "source": [
        "test_predictions1 = svm_model.predict(X_test)"
      ],
      "metadata": {
        "id": "HmB0jDMbNVQ-"
      },
      "execution_count": null,
      "outputs": []
    },
    {
      "cell_type": "code",
      "source": [
        "solution4 = pd.DataFrame({'id': dftest['id'], 'labels': test_predictions1})"
      ],
      "metadata": {
        "id": "rNjGwoAPNu93"
      },
      "execution_count": null,
      "outputs": []
    },
    {
      "cell_type": "code",
      "source": [
        "solution4.head()"
      ],
      "metadata": {
        "colab": {
          "base_uri": "https://localhost:8080/",
          "height": 206
        },
        "id": "wnFu7e-9OHOS",
        "outputId": "3d2ba107-af1a-4672-ac9d-f185bcf53b44"
      },
      "execution_count": null,
      "outputs": [
        {
          "output_type": "execute_result",
          "data": {
            "text/plain": [
              "   id  labels\n",
              "0   1       0\n",
              "1   2       0\n",
              "2   3       0\n",
              "3   4       0\n",
              "4   5       0"
            ],
            "text/html": [
              "\n",
              "  <div id=\"df-e1569679-5cbf-4475-96ca-bcc2a94026e8\">\n",
              "    <div class=\"colab-df-container\">\n",
              "      <div>\n",
              "<style scoped>\n",
              "    .dataframe tbody tr th:only-of-type {\n",
              "        vertical-align: middle;\n",
              "    }\n",
              "\n",
              "    .dataframe tbody tr th {\n",
              "        vertical-align: top;\n",
              "    }\n",
              "\n",
              "    .dataframe thead th {\n",
              "        text-align: right;\n",
              "    }\n",
              "</style>\n",
              "<table border=\"1\" class=\"dataframe\">\n",
              "  <thead>\n",
              "    <tr style=\"text-align: right;\">\n",
              "      <th></th>\n",
              "      <th>id</th>\n",
              "      <th>labels</th>\n",
              "    </tr>\n",
              "  </thead>\n",
              "  <tbody>\n",
              "    <tr>\n",
              "      <th>0</th>\n",
              "      <td>1</td>\n",
              "      <td>0</td>\n",
              "    </tr>\n",
              "    <tr>\n",
              "      <th>1</th>\n",
              "      <td>2</td>\n",
              "      <td>0</td>\n",
              "    </tr>\n",
              "    <tr>\n",
              "      <th>2</th>\n",
              "      <td>3</td>\n",
              "      <td>0</td>\n",
              "    </tr>\n",
              "    <tr>\n",
              "      <th>3</th>\n",
              "      <td>4</td>\n",
              "      <td>0</td>\n",
              "    </tr>\n",
              "    <tr>\n",
              "      <th>4</th>\n",
              "      <td>5</td>\n",
              "      <td>0</td>\n",
              "    </tr>\n",
              "  </tbody>\n",
              "</table>\n",
              "</div>\n",
              "      <button class=\"colab-df-convert\" onclick=\"convertToInteractive('df-e1569679-5cbf-4475-96ca-bcc2a94026e8')\"\n",
              "              title=\"Convert this dataframe to an interactive table.\"\n",
              "              style=\"display:none;\">\n",
              "        \n",
              "  <svg xmlns=\"http://www.w3.org/2000/svg\" height=\"24px\"viewBox=\"0 0 24 24\"\n",
              "       width=\"24px\">\n",
              "    <path d=\"M0 0h24v24H0V0z\" fill=\"none\"/>\n",
              "    <path d=\"M18.56 5.44l.94 2.06.94-2.06 2.06-.94-2.06-.94-.94-2.06-.94 2.06-2.06.94zm-11 1L8.5 8.5l.94-2.06 2.06-.94-2.06-.94L8.5 2.5l-.94 2.06-2.06.94zm10 10l.94 2.06.94-2.06 2.06-.94-2.06-.94-.94-2.06-.94 2.06-2.06.94z\"/><path d=\"M17.41 7.96l-1.37-1.37c-.4-.4-.92-.59-1.43-.59-.52 0-1.04.2-1.43.59L10.3 9.45l-7.72 7.72c-.78.78-.78 2.05 0 2.83L4 21.41c.39.39.9.59 1.41.59.51 0 1.02-.2 1.41-.59l7.78-7.78 2.81-2.81c.8-.78.8-2.07 0-2.86zM5.41 20L4 18.59l7.72-7.72 1.47 1.35L5.41 20z\"/>\n",
              "  </svg>\n",
              "      </button>\n",
              "      \n",
              "  <style>\n",
              "    .colab-df-container {\n",
              "      display:flex;\n",
              "      flex-wrap:wrap;\n",
              "      gap: 12px;\n",
              "    }\n",
              "\n",
              "    .colab-df-convert {\n",
              "      background-color: #E8F0FE;\n",
              "      border: none;\n",
              "      border-radius: 50%;\n",
              "      cursor: pointer;\n",
              "      display: none;\n",
              "      fill: #1967D2;\n",
              "      height: 32px;\n",
              "      padding: 0 0 0 0;\n",
              "      width: 32px;\n",
              "    }\n",
              "\n",
              "    .colab-df-convert:hover {\n",
              "      background-color: #E2EBFA;\n",
              "      box-shadow: 0px 1px 2px rgba(60, 64, 67, 0.3), 0px 1px 3px 1px rgba(60, 64, 67, 0.15);\n",
              "      fill: #174EA6;\n",
              "    }\n",
              "\n",
              "    [theme=dark] .colab-df-convert {\n",
              "      background-color: #3B4455;\n",
              "      fill: #D2E3FC;\n",
              "    }\n",
              "\n",
              "    [theme=dark] .colab-df-convert:hover {\n",
              "      background-color: #434B5C;\n",
              "      box-shadow: 0px 1px 3px 1px rgba(0, 0, 0, 0.15);\n",
              "      filter: drop-shadow(0px 1px 2px rgba(0, 0, 0, 0.3));\n",
              "      fill: #FFFFFF;\n",
              "    }\n",
              "  </style>\n",
              "\n",
              "      <script>\n",
              "        const buttonEl =\n",
              "          document.querySelector('#df-e1569679-5cbf-4475-96ca-bcc2a94026e8 button.colab-df-convert');\n",
              "        buttonEl.style.display =\n",
              "          google.colab.kernel.accessAllowed ? 'block' : 'none';\n",
              "\n",
              "        async function convertToInteractive(key) {\n",
              "          const element = document.querySelector('#df-e1569679-5cbf-4475-96ca-bcc2a94026e8');\n",
              "          const dataTable =\n",
              "            await google.colab.kernel.invokeFunction('convertToInteractive',\n",
              "                                                     [key], {});\n",
              "          if (!dataTable) return;\n",
              "\n",
              "          const docLinkHtml = 'Like what you see? Visit the ' +\n",
              "            '<a target=\"_blank\" href=https://colab.research.google.com/notebooks/data_table.ipynb>data table notebook</a>'\n",
              "            + ' to learn more about interactive tables.';\n",
              "          element.innerHTML = '';\n",
              "          dataTable['output_type'] = 'display_data';\n",
              "          await google.colab.output.renderOutput(dataTable, element);\n",
              "          const docLink = document.createElement('div');\n",
              "          docLink.innerHTML = docLinkHtml;\n",
              "          element.appendChild(docLink);\n",
              "        }\n",
              "      </script>\n",
              "    </div>\n",
              "  </div>\n",
              "  "
            ]
          },
          "metadata": {},
          "execution_count": 79
        }
      ]
    },
    {
      "cell_type": "code",
      "source": [
        "solution4.to_csv('solution4.csv', index=False)"
      ],
      "metadata": {
        "id": "dP2Sf9fQOK5R"
      },
      "execution_count": null,
      "outputs": []
    },
    {
      "cell_type": "code",
      "source": [],
      "metadata": {
        "id": "IzoCiAq-OSo2"
      },
      "execution_count": null,
      "outputs": []
    }
  ]
}
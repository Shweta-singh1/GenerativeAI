{
  "cells": [
    {
      "cell_type": "code",
      "execution_count": 1,
      "metadata": {
        "id": "bnFRAreb9BoV"
      },
      "outputs": [],
      "source": [
        "import pandas as pd\n",
        "import numpy as np\n",
        "import matplotlib.pyplot as plt\n",
        "import seaborn as sns\n",
        "%matplotlib inline"
      ]
    },
    {
      "cell_type": "code",
      "execution_count": 2,
      "metadata": {
        "id": "DgANDmKj9Vy9",
        "colab": {
          "base_uri": "https://localhost:8080/"
        },
        "outputId": "22d5306f-d0d2-4344-b588-4307465e981e"
      },
      "outputs": [
        {
          "output_type": "stream",
          "name": "stdout",
          "text": [
            "Mounted at /content/drive\n"
          ]
        }
      ],
      "source": [
        "from google.colab import drive\n",
        "drive.mount('/content/drive')"
      ]
    },
    {
      "cell_type": "code",
      "execution_count": 3,
      "metadata": {
        "id": "rESUEncx9YHm"
      },
      "outputs": [],
      "source": [
        "df=pd.read_csv(r\"/content/drive/MyDrive/generativeai/train.csv\")"
      ]
    },
    {
      "cell_type": "code",
      "execution_count": 4,
      "metadata": {
        "id": "gb5r8NzH9fgv",
        "colab": {
          "base_uri": "https://localhost:8080/",
          "height": 488
        },
        "outputId": "849a3252-e7db-4da2-9b68-1136883b509e"
      },
      "outputs": [
        {
          "output_type": "execute_result",
          "data": {
            "text/plain": [
              "      labels       f_0       f_1       f_2       f_3       f_4       f_5  \\\n",
              "0          0 -2.033875  0.978446 -0.142131 -0.177117 -1.470684  1.669562   \n",
              "1          1 -0.348835  0.294815 -0.557577 -2.020773 -1.234715  1.633930   \n",
              "2          1  0.113248 -0.607726 -0.947791  0.830851  0.998291  0.498321   \n",
              "3          0  1.223321 -0.479048 -1.925789  1.680377  0.021840 -1.453307   \n",
              "4          0  0.160109  0.422684 -0.308029  0.227744  0.432854  0.608348   \n",
              "...      ...       ...       ...       ...       ...       ...       ...   \n",
              "5245       0  1.157565 -0.142219  1.043992  1.144946  1.195423  0.248978   \n",
              "5246       0  1.424709  0.235910  1.356778  1.368099 -0.318862  1.039765   \n",
              "5247       1 -0.375687  1.524455  0.012514 -0.007917  0.073809 -0.906909   \n",
              "5248       1 -0.478238  1.666142  0.049609 -0.428752 -0.362771  1.798104   \n",
              "5249       1 -0.750874  0.267008 -0.155041 -0.179867 -0.155041 -0.303999   \n",
              "\n",
              "           f_6       f_7       f_8  ...    f_1190    f_1191    f_1192  \\\n",
              "0    -0.196530 -0.125239 -0.452284  ... -1.111266  0.716084  0.060039   \n",
              "1    -1.680658 -0.358146  0.166122  ...  0.735240  0.829781  1.521941   \n",
              "2    -1.493958  0.789572 -1.311018  ...  0.104698  0.616189 -1.035953   \n",
              "3     0.605559 -0.019024  1.065448  ...  0.360237 -1.957863 -0.123384   \n",
              "4     0.193832  1.035091 -0.538868  ...  0.416629  1.441766  0.212572   \n",
              "...        ...       ...       ...  ...       ...       ...       ...   \n",
              "5245 -1.505100 -0.874137 -1.782724  ...  1.195423 -0.255793 -0.154838   \n",
              "5246 -0.986854 -0.330184 -1.383120  ...  1.424709 -1.066107  0.881258   \n",
              "5247 -1.254247  1.606182  0.298557  ... -0.028349 -0.968204 -1.233815   \n",
              "5248 -0.214314  0.775400 -0.379267  ... -0.428752 -1.121552 -0.379267   \n",
              "5249 -0.279173  1.731765  0.564925  ... -0.303999 -0.850180  0.937321   \n",
              "\n",
              "        f_1193    f_1194    f_1195    f_1196    f_1197    f_1198    f_1199  \n",
              "0     0.301279 -1.174846 -1.076498 -0.069452 -0.604012 -2.179176  0.558003  \n",
              "1     1.347946  0.754505  1.330642 -0.754453  0.582956  0.252671  1.495870  \n",
              "2     2.111387 -0.984415  1.148076 -1.433554  0.243372  0.170083  1.274795  \n",
              "3     1.505329  0.660290 -1.769443 -0.547756 -0.568122  0.244645  0.982116  \n",
              "4    -0.994721  1.143999 -2.166923 -1.199248 -1.028636  0.752791  0.317169  \n",
              "...        ...       ...       ...       ...       ...       ...       ...  \n",
              "5245  0.413029 -0.482939 -1.277953 -0.445082  1.195423 -0.924614 -0.432462  \n",
              "5246 -0.488691 -1.281223 -1.213291  0.122692  1.175627 -1.145360  0.451026  \n",
              "5247  1.626613 -0.191802  1.115823  0.380284 -0.293960  0.135104  1.381434  \n",
              "5248 -0.593705  0.049609  1.765114  0.313533 -0.329781 -1.220524  0.033114  \n",
              "5249 -1.594972  1.036626  1.582807  1.036626 -0.254346  0.664230  1.831071  \n",
              "\n",
              "[5250 rows x 1201 columns]"
            ],
            "text/html": [
              "\n",
              "  <div id=\"df-c0bb55d7-d7ae-4989-acf9-076b127a5b6b\">\n",
              "    <div class=\"colab-df-container\">\n",
              "      <div>\n",
              "<style scoped>\n",
              "    .dataframe tbody tr th:only-of-type {\n",
              "        vertical-align: middle;\n",
              "    }\n",
              "\n",
              "    .dataframe tbody tr th {\n",
              "        vertical-align: top;\n",
              "    }\n",
              "\n",
              "    .dataframe thead th {\n",
              "        text-align: right;\n",
              "    }\n",
              "</style>\n",
              "<table border=\"1\" class=\"dataframe\">\n",
              "  <thead>\n",
              "    <tr style=\"text-align: right;\">\n",
              "      <th></th>\n",
              "      <th>labels</th>\n",
              "      <th>f_0</th>\n",
              "      <th>f_1</th>\n",
              "      <th>f_2</th>\n",
              "      <th>f_3</th>\n",
              "      <th>f_4</th>\n",
              "      <th>f_5</th>\n",
              "      <th>f_6</th>\n",
              "      <th>f_7</th>\n",
              "      <th>f_8</th>\n",
              "      <th>...</th>\n",
              "      <th>f_1190</th>\n",
              "      <th>f_1191</th>\n",
              "      <th>f_1192</th>\n",
              "      <th>f_1193</th>\n",
              "      <th>f_1194</th>\n",
              "      <th>f_1195</th>\n",
              "      <th>f_1196</th>\n",
              "      <th>f_1197</th>\n",
              "      <th>f_1198</th>\n",
              "      <th>f_1199</th>\n",
              "    </tr>\n",
              "  </thead>\n",
              "  <tbody>\n",
              "    <tr>\n",
              "      <th>0</th>\n",
              "      <td>0</td>\n",
              "      <td>-2.033875</td>\n",
              "      <td>0.978446</td>\n",
              "      <td>-0.142131</td>\n",
              "      <td>-0.177117</td>\n",
              "      <td>-1.470684</td>\n",
              "      <td>1.669562</td>\n",
              "      <td>-0.196530</td>\n",
              "      <td>-0.125239</td>\n",
              "      <td>-0.452284</td>\n",
              "      <td>...</td>\n",
              "      <td>-1.111266</td>\n",
              "      <td>0.716084</td>\n",
              "      <td>0.060039</td>\n",
              "      <td>0.301279</td>\n",
              "      <td>-1.174846</td>\n",
              "      <td>-1.076498</td>\n",
              "      <td>-0.069452</td>\n",
              "      <td>-0.604012</td>\n",
              "      <td>-2.179176</td>\n",
              "      <td>0.558003</td>\n",
              "    </tr>\n",
              "    <tr>\n",
              "      <th>1</th>\n",
              "      <td>1</td>\n",
              "      <td>-0.348835</td>\n",
              "      <td>0.294815</td>\n",
              "      <td>-0.557577</td>\n",
              "      <td>-2.020773</td>\n",
              "      <td>-1.234715</td>\n",
              "      <td>1.633930</td>\n",
              "      <td>-1.680658</td>\n",
              "      <td>-0.358146</td>\n",
              "      <td>0.166122</td>\n",
              "      <td>...</td>\n",
              "      <td>0.735240</td>\n",
              "      <td>0.829781</td>\n",
              "      <td>1.521941</td>\n",
              "      <td>1.347946</td>\n",
              "      <td>0.754505</td>\n",
              "      <td>1.330642</td>\n",
              "      <td>-0.754453</td>\n",
              "      <td>0.582956</td>\n",
              "      <td>0.252671</td>\n",
              "      <td>1.495870</td>\n",
              "    </tr>\n",
              "    <tr>\n",
              "      <th>2</th>\n",
              "      <td>1</td>\n",
              "      <td>0.113248</td>\n",
              "      <td>-0.607726</td>\n",
              "      <td>-0.947791</td>\n",
              "      <td>0.830851</td>\n",
              "      <td>0.998291</td>\n",
              "      <td>0.498321</td>\n",
              "      <td>-1.493958</td>\n",
              "      <td>0.789572</td>\n",
              "      <td>-1.311018</td>\n",
              "      <td>...</td>\n",
              "      <td>0.104698</td>\n",
              "      <td>0.616189</td>\n",
              "      <td>-1.035953</td>\n",
              "      <td>2.111387</td>\n",
              "      <td>-0.984415</td>\n",
              "      <td>1.148076</td>\n",
              "      <td>-1.433554</td>\n",
              "      <td>0.243372</td>\n",
              "      <td>0.170083</td>\n",
              "      <td>1.274795</td>\n",
              "    </tr>\n",
              "    <tr>\n",
              "      <th>3</th>\n",
              "      <td>0</td>\n",
              "      <td>1.223321</td>\n",
              "      <td>-0.479048</td>\n",
              "      <td>-1.925789</td>\n",
              "      <td>1.680377</td>\n",
              "      <td>0.021840</td>\n",
              "      <td>-1.453307</td>\n",
              "      <td>0.605559</td>\n",
              "      <td>-0.019024</td>\n",
              "      <td>1.065448</td>\n",
              "      <td>...</td>\n",
              "      <td>0.360237</td>\n",
              "      <td>-1.957863</td>\n",
              "      <td>-0.123384</td>\n",
              "      <td>1.505329</td>\n",
              "      <td>0.660290</td>\n",
              "      <td>-1.769443</td>\n",
              "      <td>-0.547756</td>\n",
              "      <td>-0.568122</td>\n",
              "      <td>0.244645</td>\n",
              "      <td>0.982116</td>\n",
              "    </tr>\n",
              "    <tr>\n",
              "      <th>4</th>\n",
              "      <td>0</td>\n",
              "      <td>0.160109</td>\n",
              "      <td>0.422684</td>\n",
              "      <td>-0.308029</td>\n",
              "      <td>0.227744</td>\n",
              "      <td>0.432854</td>\n",
              "      <td>0.608348</td>\n",
              "      <td>0.193832</td>\n",
              "      <td>1.035091</td>\n",
              "      <td>-0.538868</td>\n",
              "      <td>...</td>\n",
              "      <td>0.416629</td>\n",
              "      <td>1.441766</td>\n",
              "      <td>0.212572</td>\n",
              "      <td>-0.994721</td>\n",
              "      <td>1.143999</td>\n",
              "      <td>-2.166923</td>\n",
              "      <td>-1.199248</td>\n",
              "      <td>-1.028636</td>\n",
              "      <td>0.752791</td>\n",
              "      <td>0.317169</td>\n",
              "    </tr>\n",
              "    <tr>\n",
              "      <th>...</th>\n",
              "      <td>...</td>\n",
              "      <td>...</td>\n",
              "      <td>...</td>\n",
              "      <td>...</td>\n",
              "      <td>...</td>\n",
              "      <td>...</td>\n",
              "      <td>...</td>\n",
              "      <td>...</td>\n",
              "      <td>...</td>\n",
              "      <td>...</td>\n",
              "      <td>...</td>\n",
              "      <td>...</td>\n",
              "      <td>...</td>\n",
              "      <td>...</td>\n",
              "      <td>...</td>\n",
              "      <td>...</td>\n",
              "      <td>...</td>\n",
              "      <td>...</td>\n",
              "      <td>...</td>\n",
              "      <td>...</td>\n",
              "      <td>...</td>\n",
              "    </tr>\n",
              "    <tr>\n",
              "      <th>5245</th>\n",
              "      <td>0</td>\n",
              "      <td>1.157565</td>\n",
              "      <td>-0.142219</td>\n",
              "      <td>1.043992</td>\n",
              "      <td>1.144946</td>\n",
              "      <td>1.195423</td>\n",
              "      <td>0.248978</td>\n",
              "      <td>-1.505100</td>\n",
              "      <td>-0.874137</td>\n",
              "      <td>-1.782724</td>\n",
              "      <td>...</td>\n",
              "      <td>1.195423</td>\n",
              "      <td>-0.255793</td>\n",
              "      <td>-0.154838</td>\n",
              "      <td>0.413029</td>\n",
              "      <td>-0.482939</td>\n",
              "      <td>-1.277953</td>\n",
              "      <td>-0.445082</td>\n",
              "      <td>1.195423</td>\n",
              "      <td>-0.924614</td>\n",
              "      <td>-0.432462</td>\n",
              "    </tr>\n",
              "    <tr>\n",
              "      <th>5246</th>\n",
              "      <td>0</td>\n",
              "      <td>1.424709</td>\n",
              "      <td>0.235910</td>\n",
              "      <td>1.356778</td>\n",
              "      <td>1.368099</td>\n",
              "      <td>-0.318862</td>\n",
              "      <td>1.039765</td>\n",
              "      <td>-0.986854</td>\n",
              "      <td>-0.330184</td>\n",
              "      <td>-1.383120</td>\n",
              "      <td>...</td>\n",
              "      <td>1.424709</td>\n",
              "      <td>-1.066107</td>\n",
              "      <td>0.881258</td>\n",
              "      <td>-0.488691</td>\n",
              "      <td>-1.281223</td>\n",
              "      <td>-1.213291</td>\n",
              "      <td>0.122692</td>\n",
              "      <td>1.175627</td>\n",
              "      <td>-1.145360</td>\n",
              "      <td>0.451026</td>\n",
              "    </tr>\n",
              "    <tr>\n",
              "      <th>5247</th>\n",
              "      <td>1</td>\n",
              "      <td>-0.375687</td>\n",
              "      <td>1.524455</td>\n",
              "      <td>0.012514</td>\n",
              "      <td>-0.007917</td>\n",
              "      <td>0.073809</td>\n",
              "      <td>-0.906909</td>\n",
              "      <td>-1.254247</td>\n",
              "      <td>1.606182</td>\n",
              "      <td>0.298557</td>\n",
              "      <td>...</td>\n",
              "      <td>-0.028349</td>\n",
              "      <td>-0.968204</td>\n",
              "      <td>-1.233815</td>\n",
              "      <td>1.626613</td>\n",
              "      <td>-0.191802</td>\n",
              "      <td>1.115823</td>\n",
              "      <td>0.380284</td>\n",
              "      <td>-0.293960</td>\n",
              "      <td>0.135104</td>\n",
              "      <td>1.381434</td>\n",
              "    </tr>\n",
              "    <tr>\n",
              "      <th>5248</th>\n",
              "      <td>1</td>\n",
              "      <td>-0.478238</td>\n",
              "      <td>1.666142</td>\n",
              "      <td>0.049609</td>\n",
              "      <td>-0.428752</td>\n",
              "      <td>-0.362771</td>\n",
              "      <td>1.798104</td>\n",
              "      <td>-0.214314</td>\n",
              "      <td>0.775400</td>\n",
              "      <td>-0.379267</td>\n",
              "      <td>...</td>\n",
              "      <td>-0.428752</td>\n",
              "      <td>-1.121552</td>\n",
              "      <td>-0.379267</td>\n",
              "      <td>-0.593705</td>\n",
              "      <td>0.049609</td>\n",
              "      <td>1.765114</td>\n",
              "      <td>0.313533</td>\n",
              "      <td>-0.329781</td>\n",
              "      <td>-1.220524</td>\n",
              "      <td>0.033114</td>\n",
              "    </tr>\n",
              "    <tr>\n",
              "      <th>5249</th>\n",
              "      <td>1</td>\n",
              "      <td>-0.750874</td>\n",
              "      <td>0.267008</td>\n",
              "      <td>-0.155041</td>\n",
              "      <td>-0.179867</td>\n",
              "      <td>-0.155041</td>\n",
              "      <td>-0.303999</td>\n",
              "      <td>-0.279173</td>\n",
              "      <td>1.731765</td>\n",
              "      <td>0.564925</td>\n",
              "      <td>...</td>\n",
              "      <td>-0.303999</td>\n",
              "      <td>-0.850180</td>\n",
              "      <td>0.937321</td>\n",
              "      <td>-1.594972</td>\n",
              "      <td>1.036626</td>\n",
              "      <td>1.582807</td>\n",
              "      <td>1.036626</td>\n",
              "      <td>-0.254346</td>\n",
              "      <td>0.664230</td>\n",
              "      <td>1.831071</td>\n",
              "    </tr>\n",
              "  </tbody>\n",
              "</table>\n",
              "<p>5250 rows × 1201 columns</p>\n",
              "</div>\n",
              "      <button class=\"colab-df-convert\" onclick=\"convertToInteractive('df-c0bb55d7-d7ae-4989-acf9-076b127a5b6b')\"\n",
              "              title=\"Convert this dataframe to an interactive table.\"\n",
              "              style=\"display:none;\">\n",
              "        \n",
              "  <svg xmlns=\"http://www.w3.org/2000/svg\" height=\"24px\"viewBox=\"0 0 24 24\"\n",
              "       width=\"24px\">\n",
              "    <path d=\"M0 0h24v24H0V0z\" fill=\"none\"/>\n",
              "    <path d=\"M18.56 5.44l.94 2.06.94-2.06 2.06-.94-2.06-.94-.94-2.06-.94 2.06-2.06.94zm-11 1L8.5 8.5l.94-2.06 2.06-.94-2.06-.94L8.5 2.5l-.94 2.06-2.06.94zm10 10l.94 2.06.94-2.06 2.06-.94-2.06-.94-.94-2.06-.94 2.06-2.06.94z\"/><path d=\"M17.41 7.96l-1.37-1.37c-.4-.4-.92-.59-1.43-.59-.52 0-1.04.2-1.43.59L10.3 9.45l-7.72 7.72c-.78.78-.78 2.05 0 2.83L4 21.41c.39.39.9.59 1.41.59.51 0 1.02-.2 1.41-.59l7.78-7.78 2.81-2.81c.8-.78.8-2.07 0-2.86zM5.41 20L4 18.59l7.72-7.72 1.47 1.35L5.41 20z\"/>\n",
              "  </svg>\n",
              "      </button>\n",
              "      \n",
              "  <style>\n",
              "    .colab-df-container {\n",
              "      display:flex;\n",
              "      flex-wrap:wrap;\n",
              "      gap: 12px;\n",
              "    }\n",
              "\n",
              "    .colab-df-convert {\n",
              "      background-color: #E8F0FE;\n",
              "      border: none;\n",
              "      border-radius: 50%;\n",
              "      cursor: pointer;\n",
              "      display: none;\n",
              "      fill: #1967D2;\n",
              "      height: 32px;\n",
              "      padding: 0 0 0 0;\n",
              "      width: 32px;\n",
              "    }\n",
              "\n",
              "    .colab-df-convert:hover {\n",
              "      background-color: #E2EBFA;\n",
              "      box-shadow: 0px 1px 2px rgba(60, 64, 67, 0.3), 0px 1px 3px 1px rgba(60, 64, 67, 0.15);\n",
              "      fill: #174EA6;\n",
              "    }\n",
              "\n",
              "    [theme=dark] .colab-df-convert {\n",
              "      background-color: #3B4455;\n",
              "      fill: #D2E3FC;\n",
              "    }\n",
              "\n",
              "    [theme=dark] .colab-df-convert:hover {\n",
              "      background-color: #434B5C;\n",
              "      box-shadow: 0px 1px 3px 1px rgba(0, 0, 0, 0.15);\n",
              "      filter: drop-shadow(0px 1px 2px rgba(0, 0, 0, 0.3));\n",
              "      fill: #FFFFFF;\n",
              "    }\n",
              "  </style>\n",
              "\n",
              "      <script>\n",
              "        const buttonEl =\n",
              "          document.querySelector('#df-c0bb55d7-d7ae-4989-acf9-076b127a5b6b button.colab-df-convert');\n",
              "        buttonEl.style.display =\n",
              "          google.colab.kernel.accessAllowed ? 'block' : 'none';\n",
              "\n",
              "        async function convertToInteractive(key) {\n",
              "          const element = document.querySelector('#df-c0bb55d7-d7ae-4989-acf9-076b127a5b6b');\n",
              "          const dataTable =\n",
              "            await google.colab.kernel.invokeFunction('convertToInteractive',\n",
              "                                                     [key], {});\n",
              "          if (!dataTable) return;\n",
              "\n",
              "          const docLinkHtml = 'Like what you see? Visit the ' +\n",
              "            '<a target=\"_blank\" href=https://colab.research.google.com/notebooks/data_table.ipynb>data table notebook</a>'\n",
              "            + ' to learn more about interactive tables.';\n",
              "          element.innerHTML = '';\n",
              "          dataTable['output_type'] = 'display_data';\n",
              "          await google.colab.output.renderOutput(dataTable, element);\n",
              "          const docLink = document.createElement('div');\n",
              "          docLink.innerHTML = docLinkHtml;\n",
              "          element.appendChild(docLink);\n",
              "        }\n",
              "      </script>\n",
              "    </div>\n",
              "  </div>\n",
              "  "
            ]
          },
          "metadata": {},
          "execution_count": 4
        }
      ],
      "source": [
        "pd.DataFrame(df)"
      ]
    },
    {
      "cell_type": "code",
      "execution_count": 99,
      "metadata": {
        "id": "w21a6-Wh9jYZ",
        "colab": {
          "base_uri": "https://localhost:8080/"
        },
        "outputId": "78b67c08-3fe5-46ff-c833-e7645b756fdb"
      },
      "outputs": [
        {
          "output_type": "stream",
          "name": "stdout",
          "text": [
            "0    3850\n",
            "1    1400\n",
            "Name: labels, dtype: int64\n"
          ]
        }
      ],
      "source": [
        "print(df['labels'].value_counts())"
      ]
    },
    {
      "cell_type": "code",
      "execution_count": 100,
      "metadata": {
        "id": "HtunYCMI0xKh"
      },
      "outputs": [],
      "source": [
        "X = df.drop(['labels'], axis=1)\n",
        "y = df['labels']"
      ]
    },
    {
      "cell_type": "code",
      "execution_count": 101,
      "metadata": {
        "id": "a-kYXNPxJeAj"
      },
      "outputs": [],
      "source": [
        "from sklearn.model_selection import train_test_split\n"
      ]
    },
    {
      "cell_type": "code",
      "execution_count": 102,
      "metadata": {
        "id": "AcivfGnc00CP"
      },
      "outputs": [],
      "source": [
        "X_train, X_val, y_train, y_val = train_test_split(X, y, test_size=0.2, random_state=42)"
      ]
    },
    {
      "cell_type": "code",
      "execution_count": 103,
      "metadata": {
        "id": "PIPMwMTn01zL",
        "colab": {
          "base_uri": "https://localhost:8080/"
        },
        "outputId": "6836c904-3a09-46a7-deef-70676ef9adad"
      },
      "outputs": [
        {
          "output_type": "stream",
          "name": "stdout",
          "text": [
            "Training data shape: (4200, 1200) (4200,)\n",
            "Validation data shape: (1050, 1200) (1050,)\n"
          ]
        }
      ],
      "source": [
        "print(\"Training data shape:\", X_train.shape, y_train.shape)\n",
        "print(\"Validation data shape:\", X_val.shape, y_val.shape)"
      ]
    },
    {
      "cell_type": "code",
      "execution_count": 104,
      "metadata": {
        "id": "0awtNEwl034F"
      },
      "outputs": [],
      "source": [
        "from sklearn.impute import SimpleImputer\n",
        "imputer = SimpleImputer(strategy='mean')\n",
        "X_train = imputer.fit_transform(X_train)\n",
        "X_val = imputer.transform(X_val)"
      ]
    },
    {
      "cell_type": "code",
      "execution_count": 105,
      "metadata": {
        "id": "yWld8-K0gKqS"
      },
      "outputs": [],
      "source": [
        "import tensorflow as tf\n",
        "from tensorflow.keras.models import Sequential\n",
        "from tensorflow.keras.layers import Dense, Dropout"
      ]
    },
    {
      "cell_type": "code",
      "execution_count": 106,
      "metadata": {
        "id": "MIzsz_Yygr-1"
      },
      "outputs": [],
      "source": [
        "num_features = X_train.shape[1]\n",
        "num_classes = len(df['labels'].unique())"
      ]
    },
    {
      "cell_type": "code",
      "execution_count": 107,
      "metadata": {
        "id": "q4bDzUotgsRX"
      },
      "outputs": [],
      "source": [
        "model = Sequential()\n",
        "model.add(Dense(256, activation='relu', input_shape=(num_features,)))\n",
        "model.add(Dense(128, activation='relu'))\n",
        "model.add(Dense(64, activation='relu'))\n",
        "model.add(Dropout(0.1))\n",
        "model.add(Dense(num_classes, activation='sigmoid'))"
      ]
    },
    {
      "cell_type": "code",
      "execution_count": 108,
      "metadata": {
        "id": "cmtKqtmhgub1"
      },
      "outputs": [],
      "source": [
        "model.compile(loss='categorical_crossentropy', optimizer='adam', metrics=['accuracy'])\n"
      ]
    },
    {
      "cell_type": "code",
      "source": [
        "model.summary()"
      ],
      "metadata": {
        "colab": {
          "base_uri": "https://localhost:8080/"
        },
        "id": "5xLc4giSkdVe",
        "outputId": "3660fffd-7cf4-4777-a4b1-1dc3546dfc68"
      },
      "execution_count": 109,
      "outputs": [
        {
          "output_type": "stream",
          "name": "stdout",
          "text": [
            "Model: \"sequential_8\"\n",
            "_________________________________________________________________\n",
            " Layer (type)                Output Shape              Param #   \n",
            "=================================================================\n",
            " dense_41 (Dense)            (None, 256)               307456    \n",
            "                                                                 \n",
            " dense_42 (Dense)            (None, 128)               32896     \n",
            "                                                                 \n",
            " dense_43 (Dense)            (None, 64)                8256      \n",
            "                                                                 \n",
            " dropout_8 (Dropout)         (None, 64)                0         \n",
            "                                                                 \n",
            " dense_44 (Dense)            (None, 2)                 130       \n",
            "                                                                 \n",
            "=================================================================\n",
            "Total params: 348,738\n",
            "Trainable params: 348,738\n",
            "Non-trainable params: 0\n",
            "_________________________________________________________________\n"
          ]
        }
      ]
    },
    {
      "cell_type": "code",
      "execution_count": 110,
      "metadata": {
        "id": "epJCJe9FhX69"
      },
      "outputs": [],
      "source": [
        "from tensorflow.keras.utils import to_categorical\n",
        "y_train = to_categorical(y_train, num_classes)\n",
        "y_val = to_categorical(y_val, num_classes)"
      ]
    },
    {
      "cell_type": "code",
      "execution_count": 111,
      "metadata": {
        "id": "3UhC0YIjhb4N"
      },
      "outputs": [],
      "source": [
        "model.add(Dense(num_classes, activation='sigmoid'))\n"
      ]
    },
    {
      "cell_type": "code",
      "execution_count": 114,
      "metadata": {
        "colab": {
          "base_uri": "https://localhost:8080/"
        },
        "id": "U_VxKWbOhNC5",
        "outputId": "cdc1d3a9-0a81-42c6-d2fa-74e99f715c1b"
      },
      "outputs": [
        {
          "output_type": "stream",
          "name": "stdout",
          "text": [
            "Epoch 1/15\n",
            "132/132 [==============================] - 1s 5ms/step - loss: 0.0352 - accuracy: 0.9943 - val_loss: 0.7364 - val_accuracy: 0.8467\n",
            "Epoch 2/15\n",
            "132/132 [==============================] - 1s 5ms/step - loss: 0.0352 - accuracy: 0.9943 - val_loss: 0.7375 - val_accuracy: 0.8467\n",
            "Epoch 3/15\n",
            "132/132 [==============================] - 1s 4ms/step - loss: 0.0352 - accuracy: 0.9943 - val_loss: 0.7376 - val_accuracy: 0.8457\n",
            "Epoch 4/15\n",
            "132/132 [==============================] - 1s 4ms/step - loss: 0.0352 - accuracy: 0.9943 - val_loss: 0.7381 - val_accuracy: 0.8467\n",
            "Epoch 5/15\n",
            "132/132 [==============================] - 1s 4ms/step - loss: 0.0352 - accuracy: 0.9943 - val_loss: 0.7399 - val_accuracy: 0.8457\n",
            "Epoch 6/15\n",
            "132/132 [==============================] - 1s 4ms/step - loss: 0.0352 - accuracy: 0.9943 - val_loss: 0.7401 - val_accuracy: 0.8457\n",
            "Epoch 7/15\n",
            "132/132 [==============================] - 1s 4ms/step - loss: 0.0352 - accuracy: 0.9943 - val_loss: 0.7411 - val_accuracy: 0.8457\n",
            "Epoch 8/15\n",
            "132/132 [==============================] - 1s 4ms/step - loss: 0.0352 - accuracy: 0.9943 - val_loss: 0.7411 - val_accuracy: 0.8457\n",
            "Epoch 9/15\n",
            "132/132 [==============================] - 1s 4ms/step - loss: 0.0352 - accuracy: 0.9943 - val_loss: 0.7431 - val_accuracy: 0.8457\n",
            "Epoch 10/15\n",
            "132/132 [==============================] - 1s 4ms/step - loss: 0.0352 - accuracy: 0.9943 - val_loss: 0.7418 - val_accuracy: 0.8457\n",
            "Epoch 11/15\n",
            "132/132 [==============================] - 1s 7ms/step - loss: 0.0352 - accuracy: 0.9943 - val_loss: 0.7413 - val_accuracy: 0.8448\n",
            "Epoch 12/15\n",
            "132/132 [==============================] - 1s 6ms/step - loss: 0.0501 - accuracy: 0.9905 - val_loss: 0.6372 - val_accuracy: 0.8552\n",
            "Epoch 13/15\n",
            "132/132 [==============================] - 1s 6ms/step - loss: 0.2980 - accuracy: 0.8636 - val_loss: 0.4772 - val_accuracy: 0.8514\n",
            "Epoch 14/15\n",
            "132/132 [==============================] - 1s 5ms/step - loss: 0.2969 - accuracy: 0.8574 - val_loss: 0.4890 - val_accuracy: 0.7990\n",
            "Epoch 15/15\n",
            "132/132 [==============================] - 1s 4ms/step - loss: 0.2522 - accuracy: 0.8919 - val_loss: 0.4909 - val_accuracy: 0.7638\n"
          ]
        }
      ],
      "source": [
        "history = model.fit(X_train, y_train, epochs=15, batch_size=32, validation_data=(X_val, y_val))\n"
      ]
    },
    {
      "cell_type": "code",
      "execution_count": 37,
      "metadata": {
        "colab": {
          "base_uri": "https://localhost:8080/"
        },
        "id": "64E8x31chwpD",
        "outputId": "27bad65f-850e-4175-d3fc-9fa7ac4db22c"
      },
      "outputs": [
        {
          "output_type": "stream",
          "name": "stdout",
          "text": [
            "Validation loss: 0.39734676480293274\n",
            "Validation accuracy: 0.8600000143051147\n"
          ]
        }
      ],
      "source": [
        "loss, accuracy = model.evaluate(X_val, y_val, verbose=0)\n",
        "print('Validation loss:', loss)\n",
        "print('Validation accuracy:', accuracy)"
      ]
    },
    {
      "cell_type": "code",
      "execution_count": 38,
      "metadata": {
        "id": "0ocHmvaohPcM"
      },
      "outputs": [],
      "source": [
        "test_df = pd.read_csv(\"/content/drive/MyDrive/generativeai/test.csv\")\n"
      ]
    },
    {
      "cell_type": "code",
      "execution_count": 39,
      "metadata": {
        "colab": {
          "base_uri": "https://localhost:8080/"
        },
        "id": "wO3Fd781hsoy",
        "outputId": "f678105d-46e1-4094-c08f-a34854edb0dc"
      },
      "outputs": [
        {
          "output_type": "stream",
          "name": "stdout",
          "text": [
            "71/71 [==============================] - 0s 1ms/step\n"
          ]
        }
      ],
      "source": [
        "test_X = test_df.drop('id', axis=1)\n",
        "test_X = imputer.transform(test_X)\n",
        "test_X = pd.DataFrame(test_X, columns=test_df.columns[1:])\n",
        "predictions = model.predict(test_X[:2250])"
      ]
    },
    {
      "cell_type": "code",
      "execution_count": 40,
      "metadata": {
        "id": "x7IyRo2OiPCh"
      },
      "outputs": [],
      "source": [
        "predicted_labels = np.argmax(predictions, axis=1)\n"
      ]
    },
    {
      "cell_type": "code",
      "execution_count": 41,
      "metadata": {
        "colab": {
          "base_uri": "https://localhost:8080/"
        },
        "id": "0HJnMBUtiTsw",
        "outputId": "f1d9378c-a0a3-4940-c8dc-461bbfeaf7ec"
      },
      "outputs": [
        {
          "output_type": "execute_result",
          "data": {
            "text/plain": [
              "array([1, 0, 0, ..., 1, 0, 1])"
            ]
          },
          "metadata": {},
          "execution_count": 41
        }
      ],
      "source": [
        "predicted_labels"
      ]
    },
    {
      "cell_type": "code",
      "execution_count": 43,
      "metadata": {
        "id": "z_wBVmqciVXZ"
      },
      "outputs": [],
      "source": [
        "output_df = pd.DataFrame({'id': test_df['id'], 'labels': predicted_labels})\n"
      ]
    },
    {
      "cell_type": "code",
      "execution_count": 44,
      "metadata": {
        "id": "DrV8v70Bias_"
      },
      "outputs": [],
      "source": [
        "output_df.to_csv('solution8.csv', index=False)"
      ]
    },
    {
      "cell_type": "code",
      "execution_count": null,
      "metadata": {
        "colab": {
          "background_save": true
        },
        "id": "4OR5iEnPovHc"
      },
      "outputs": [],
      "source": []
    }
  ],
  "metadata": {
    "colab": {
      "provenance": []
    },
    "kernelspec": {
      "display_name": "Python 3",
      "name": "python3"
    },
    "language_info": {
      "name": "python"
    }
  },
  "nbformat": 4,
  "nbformat_minor": 0
}